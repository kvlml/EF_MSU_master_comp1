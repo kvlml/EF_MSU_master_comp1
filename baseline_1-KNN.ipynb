{
 "cells": [
  {
   "cell_type": "code",
   "execution_count": 1,
   "metadata": {},
   "outputs": [],
   "source": [
    "import pandas as pd\n",
    "import numpy as np"
   ]
  },
  {
   "cell_type": "code",
   "execution_count": 2,
   "metadata": {},
   "outputs": [],
   "source": [
    "from sklearn.model_selection import KFold\n",
    "from sklearn.neighbors import KNeighborsRegressor\n",
    "from sklearn.metrics import mean_squared_log_error\n",
    "from sklearn.preprocessing import StandardScaler\n",
    "from copy import deepcopy\n",
    "from tqdm.notebook import tqdm\n",
    "\n",
    "import matplotlib.pyplot as plt"
   ]
  },
  {
   "cell_type": "code",
   "execution_count": 3,
   "metadata": {},
   "outputs": [],
   "source": [
    "def RMSLE(y_true, y_pred):\n",
    "    \"\"\"\n",
    "    The Root Mean Squared Log Error (RMSLE) metric\n",
    "\n",
    "    :param y_true: The ground truth labels given in the dataset\n",
    "    :param y_pred: Our predictions\n",
    "\n",
    "    :return: The RMSLE score\n",
    "    \"\"\"\n",
    "    return np.sqrt(mean_squared_log_error(y_true, y_pred))"
   ]
  },
  {
   "cell_type": "code",
   "execution_count": 4,
   "metadata": {},
   "outputs": [],
   "source": [
    "train = pd.read_csv(\"data/train.csv\")\n",
    "test = pd.read_csv(\"data/test.csv\")\n",
    "\n",
    "test_ids = test[\"id\"]"
   ]
  },
  {
   "cell_type": "code",
   "execution_count": 5,
   "metadata": {},
   "outputs": [
    {
     "data": {
      "text/html": [
       "<div>\n",
       "<style scoped>\n",
       "    .dataframe tbody tr th:only-of-type {\n",
       "        vertical-align: middle;\n",
       "    }\n",
       "\n",
       "    .dataframe tbody tr th {\n",
       "        vertical-align: top;\n",
       "    }\n",
       "\n",
       "    .dataframe thead th {\n",
       "        text-align: right;\n",
       "    }\n",
       "</style>\n",
       "<table border=\"1\" class=\"dataframe\">\n",
       "  <thead>\n",
       "    <tr style=\"text-align: right;\">\n",
       "      <th></th>\n",
       "      <th>age</th>\n",
       "      <th>sex</th>\n",
       "      <th>bmi</th>\n",
       "      <th>children</th>\n",
       "      <th>smoker</th>\n",
       "      <th>region</th>\n",
       "      <th>charges</th>\n",
       "      <th>id</th>\n",
       "    </tr>\n",
       "  </thead>\n",
       "  <tbody>\n",
       "    <tr>\n",
       "      <th>0</th>\n",
       "      <td>43</td>\n",
       "      <td>male</td>\n",
       "      <td>26.030</td>\n",
       "      <td>0</td>\n",
       "      <td>no</td>\n",
       "      <td>northeast</td>\n",
       "      <td>6837.36870</td>\n",
       "      <td>1</td>\n",
       "    </tr>\n",
       "    <tr>\n",
       "      <th>1</th>\n",
       "      <td>58</td>\n",
       "      <td>female</td>\n",
       "      <td>28.215</td>\n",
       "      <td>0</td>\n",
       "      <td>no</td>\n",
       "      <td>northwest</td>\n",
       "      <td>12224.35085</td>\n",
       "      <td>2</td>\n",
       "    </tr>\n",
       "    <tr>\n",
       "      <th>2</th>\n",
       "      <td>53</td>\n",
       "      <td>male</td>\n",
       "      <td>31.350</td>\n",
       "      <td>0</td>\n",
       "      <td>no</td>\n",
       "      <td>southeast</td>\n",
       "      <td>27346.04207</td>\n",
       "      <td>3</td>\n",
       "    </tr>\n",
       "    <tr>\n",
       "      <th>3</th>\n",
       "      <td>54</td>\n",
       "      <td>male</td>\n",
       "      <td>29.200</td>\n",
       "      <td>1</td>\n",
       "      <td>no</td>\n",
       "      <td>southwest</td>\n",
       "      <td>10436.09600</td>\n",
       "      <td>4</td>\n",
       "    </tr>\n",
       "    <tr>\n",
       "      <th>4</th>\n",
       "      <td>19</td>\n",
       "      <td>male</td>\n",
       "      <td>34.900</td>\n",
       "      <td>0</td>\n",
       "      <td>yes</td>\n",
       "      <td>southwest</td>\n",
       "      <td>34828.65400</td>\n",
       "      <td>5</td>\n",
       "    </tr>\n",
       "  </tbody>\n",
       "</table>\n",
       "</div>"
      ],
      "text/plain": [
       "   age     sex     bmi  children smoker     region      charges  id\n",
       "0   43    male  26.030         0     no  northeast   6837.36870   1\n",
       "1   58  female  28.215         0     no  northwest  12224.35085   2\n",
       "2   53    male  31.350         0     no  southeast  27346.04207   3\n",
       "3   54    male  29.200         1     no  southwest  10436.09600   4\n",
       "4   19    male  34.900         0    yes  southwest  34828.65400   5"
      ]
     },
     "execution_count": 5,
     "metadata": {},
     "output_type": "execute_result"
    }
   ],
   "source": [
    "train.head()"
   ]
  },
  {
   "cell_type": "code",
   "execution_count": 6,
   "metadata": {},
   "outputs": [
    {
     "data": {
      "image/png": "[encoded data removed]",
      "text/plain": [
       "<Figure size 432x288 with 1 Axes>"
      ]
     },
     "metadata": {
      "needs_background": "light"
     },
     "output_type": "display_data"
    }
   ],
   "source": [
    "train[\"charges\"].hist();"
   ]
  },
  {
   "cell_type": "code",
   "execution_count": 7,
   "metadata": {},
   "outputs": [
    {
     "data": {
      "image/png": "[encoded data removed]",
      "text/plain": [
       "<Figure size 432x288 with 1 Axes>"
      ]
     },
     "metadata": {
      "needs_background": "light"
     },
     "output_type": "display_data"
    }
   ],
   "source": [
    "np.log1p(train[\"charges\"]).hist();"
   ]
  },
  {
   "cell_type": "code",
   "execution_count": 8,
   "metadata": {},
   "outputs": [],
   "source": [
    "# Целевая переменная\n",
    "\n",
    "train_y = train[\"charges\"]\n",
    "train.drop([\"charges\"], axis=1, inplace=True)"
   ]
  },
  {
   "cell_type": "code",
   "execution_count": 9,
   "metadata": {},
   "outputs": [],
   "source": [
    "train.drop([\"id\"], axis=1, inplace=True)\n",
    "test.drop([\"id\"], axis=1, inplace=True)"
   ]
  },
  {
   "cell_type": "code",
   "execution_count": 10,
   "metadata": {},
   "outputs": [],
   "source": [
    "# One-hot encoding для категориальных фичей\n",
    "\n",
    "train = pd.concat(\n",
    "    [\n",
    "        train,\n",
    "        pd.get_dummies(train[[\"sex\", \"region\", \"smoker\"]], drop_first=True),\n",
    "    ],\n",
    "    axis=1,\n",
    ").drop([\"sex\", \"smoker\", \"region\"], axis=1)\n",
    "\n",
    "test = pd.concat(\n",
    "    [\n",
    "        test,\n",
    "        pd.get_dummies(test[[\"sex\", \"region\", \"smoker\"]], drop_first=True),\n",
    "    ],\n",
    "    axis=1,\n",
    ").drop([\"sex\", \"smoker\", \"region\"], axis=1)"
   ]
  },
  {
   "cell_type": "code",
   "execution_count": 11,
   "metadata": {},
   "outputs": [
    {
     "data": {
      "text/html": [
       "<div>\n",
       "<style scoped>\n",
       "    .dataframe tbody tr th:only-of-type {\n",
       "        vertical-align: middle;\n",
       "    }\n",
       "\n",
       "    .dataframe tbody tr th {\n",
       "        vertical-align: top;\n",
       "    }\n",
       "\n",
       "    .dataframe thead th {\n",
       "        text-align: right;\n",
       "    }\n",
       "</style>\n",
       "<table border=\"1\" class=\"dataframe\">\n",
       "  <thead>\n",
       "    <tr style=\"text-align: right;\">\n",
       "      <th></th>\n",
       "      <th>age</th>\n",
       "      <th>bmi</th>\n",
       "      <th>children</th>\n",
       "      <th>sex_male</th>\n",
       "      <th>region_northwest</th>\n",
       "      <th>region_southeast</th>\n",
       "      <th>region_southwest</th>\n",
       "      <th>smoker_yes</th>\n",
       "    </tr>\n",
       "  </thead>\n",
       "  <tbody>\n",
       "    <tr>\n",
       "      <th>0</th>\n",
       "      <td>43</td>\n",
       "      <td>26.030</td>\n",
       "      <td>0</td>\n",
       "      <td>1</td>\n",
       "      <td>0</td>\n",
       "      <td>0</td>\n",
       "      <td>0</td>\n",
       "      <td>0</td>\n",
       "    </tr>\n",
       "    <tr>\n",
       "      <th>1</th>\n",
       "      <td>58</td>\n",
       "      <td>28.215</td>\n",
       "      <td>0</td>\n",
       "      <td>0</td>\n",
       "      <td>1</td>\n",
       "      <td>0</td>\n",
       "      <td>0</td>\n",
       "      <td>0</td>\n",
       "    </tr>\n",
       "    <tr>\n",
       "      <th>2</th>\n",
       "      <td>53</td>\n",
       "      <td>31.350</td>\n",
       "      <td>0</td>\n",
       "      <td>1</td>\n",
       "      <td>0</td>\n",
       "      <td>1</td>\n",
       "      <td>0</td>\n",
       "      <td>0</td>\n",
       "    </tr>\n",
       "    <tr>\n",
       "      <th>3</th>\n",
       "      <td>54</td>\n",
       "      <td>29.200</td>\n",
       "      <td>1</td>\n",
       "      <td>1</td>\n",
       "      <td>0</td>\n",
       "      <td>0</td>\n",
       "      <td>1</td>\n",
       "      <td>0</td>\n",
       "    </tr>\n",
       "    <tr>\n",
       "      <th>4</th>\n",
       "      <td>19</td>\n",
       "      <td>34.900</td>\n",
       "      <td>0</td>\n",
       "      <td>1</td>\n",
       "      <td>0</td>\n",
       "      <td>0</td>\n",
       "      <td>1</td>\n",
       "      <td>1</td>\n",
       "    </tr>\n",
       "  </tbody>\n",
       "</table>\n",
       "</div>"
      ],
      "text/plain": [
       "   age     bmi  children  sex_male  region_northwest  region_southeast  \\\n",
       "0   43  26.030         0         1                 0                 0   \n",
       "1   58  28.215         0         0                 1                 0   \n",
       "2   53  31.350         0         1                 0                 1   \n",
       "3   54  29.200         1         1                 0                 0   \n",
       "4   19  34.900         0         1                 0                 0   \n",
       "\n",
       "   region_southwest  smoker_yes  \n",
       "0                 0           0  \n",
       "1                 0           0  \n",
       "2                 0           0  \n",
       "3                 1           0  \n",
       "4                 1           1  "
      ]
     },
     "execution_count": 11,
     "metadata": {},
     "output_type": "execute_result"
    }
   ],
   "source": [
    "train.head()"
   ]
  },
  {
   "cell_type": "code",
   "execution_count": 12,
   "metadata": {},
   "outputs": [
    {
     "data": {
      "text/html": [
       "<div>\n",
       "<style scoped>\n",
       "    .dataframe tbody tr th:only-of-type {\n",
       "        vertical-align: middle;\n",
       "    }\n",
       "\n",
       "    .dataframe tbody tr th {\n",
       "        vertical-align: top;\n",
       "    }\n",
       "\n",
       "    .dataframe thead th {\n",
       "        text-align: right;\n",
       "    }\n",
       "</style>\n",
       "<table border=\"1\" class=\"dataframe\">\n",
       "  <thead>\n",
       "    <tr style=\"text-align: right;\">\n",
       "      <th></th>\n",
       "      <th>age</th>\n",
       "      <th>bmi</th>\n",
       "      <th>children</th>\n",
       "      <th>sex_male</th>\n",
       "      <th>region_northwest</th>\n",
       "      <th>region_southeast</th>\n",
       "      <th>region_southwest</th>\n",
       "      <th>smoker_yes</th>\n",
       "    </tr>\n",
       "  </thead>\n",
       "  <tbody>\n",
       "    <tr>\n",
       "      <th>0</th>\n",
       "      <td>45</td>\n",
       "      <td>25.175</td>\n",
       "      <td>2</td>\n",
       "      <td>0</td>\n",
       "      <td>0</td>\n",
       "      <td>0</td>\n",
       "      <td>0</td>\n",
       "      <td>0</td>\n",
       "    </tr>\n",
       "    <tr>\n",
       "      <th>1</th>\n",
       "      <td>36</td>\n",
       "      <td>30.020</td>\n",
       "      <td>0</td>\n",
       "      <td>0</td>\n",
       "      <td>1</td>\n",
       "      <td>0</td>\n",
       "      <td>0</td>\n",
       "      <td>0</td>\n",
       "    </tr>\n",
       "    <tr>\n",
       "      <th>2</th>\n",
       "      <td>64</td>\n",
       "      <td>26.885</td>\n",
       "      <td>0</td>\n",
       "      <td>0</td>\n",
       "      <td>1</td>\n",
       "      <td>0</td>\n",
       "      <td>0</td>\n",
       "      <td>1</td>\n",
       "    </tr>\n",
       "    <tr>\n",
       "      <th>3</th>\n",
       "      <td>46</td>\n",
       "      <td>25.745</td>\n",
       "      <td>3</td>\n",
       "      <td>1</td>\n",
       "      <td>1</td>\n",
       "      <td>0</td>\n",
       "      <td>0</td>\n",
       "      <td>0</td>\n",
       "    </tr>\n",
       "    <tr>\n",
       "      <th>4</th>\n",
       "      <td>19</td>\n",
       "      <td>31.920</td>\n",
       "      <td>0</td>\n",
       "      <td>1</td>\n",
       "      <td>1</td>\n",
       "      <td>0</td>\n",
       "      <td>0</td>\n",
       "      <td>1</td>\n",
       "    </tr>\n",
       "  </tbody>\n",
       "</table>\n",
       "</div>"
      ],
      "text/plain": [
       "   age     bmi  children  sex_male  region_northwest  region_southeast  \\\n",
       "0   45  25.175         2         0                 0                 0   \n",
       "1   36  30.020         0         0                 1                 0   \n",
       "2   64  26.885         0         0                 1                 0   \n",
       "3   46  25.745         3         1                 1                 0   \n",
       "4   19  31.920         0         1                 1                 0   \n",
       "\n",
       "   region_southwest  smoker_yes  \n",
       "0                 0           0  \n",
       "1                 0           0  \n",
       "2                 0           1  \n",
       "3                 0           0  \n",
       "4                 0           1  "
      ]
     },
     "execution_count": 12,
     "metadata": {},
     "output_type": "execute_result"
    }
   ],
   "source": [
    "test.head()"
   ]
  },
  {
   "cell_type": "code",
   "execution_count": 13,
   "metadata": {},
   "outputs": [],
   "source": [
    "def cv_and_predict(\n",
    "    df_train,\n",
    "    df_test,\n",
    "    train_y,\n",
    "    model,\n",
    "    log_transform_target=True,\n",
    "    do_scaling=True,\n",
    "    n_splits=5,\n",
    "    random_state=42,\n",
    "    verbose=True,\n",
    "):\n",
    "    \"\"\"\n",
    "    Функция для кросс-валидации и предикта на тест\n",
    "\n",
    "    :param df_train: Трейн-датафрейм\n",
    "    :param df_test: Тест-датафрейм\n",
    "    :param train_y: Ответы на трейн\n",
    "    :param model: Модель, которую мы хотим учить\n",
    "    :param log_transform_target: Делаем ли лог-трансформацию таргета при обучении\n",
    "    :param do_scaling: Делаем ли скейлинг признаков\n",
    "    :param n_splits: Количество сплитов для KFold\n",
    "    :param random_state: random_state для KFold\n",
    "    :param verbose: Делаем ли print'ы\n",
    "\n",
    "    :return: pred_test: Предсказания на тест; oof_df: OOF предсказания\n",
    "    \"\"\"\n",
    "\n",
    "    kf = KFold(n_splits=n_splits, shuffle=True, random_state=random_state)\n",
    "\n",
    "    # В датафрейме oof_df будут храниться настоящий таргет трейна и OOF предсказания на трейн.\n",
    "    # Инициализируем prediction_oof нулями и будем заполнять предсказаниями в процессе валидации\n",
    "    oof_df = pd.DataFrame()\n",
    "    oof_df[\"target\"] = train_y\n",
    "    oof_df[\"prediction_oof\"] = np.zeros(oof_df.shape[0])\n",
    "\n",
    "    # Список с метриками по фолдам\n",
    "    metrics = []\n",
    "\n",
    "    # Предсказания на тест. Инициализируем нулями и будем заполнять предсказаниями в процессе валидации.\n",
    "    # Наши предсказания будут усреднением n_splits моделей\n",
    "    pred_test = np.zeros(df_test.shape[0])\n",
    "\n",
    "    # Кросс-валидация\n",
    "    for i, (train_index, valid_index) in enumerate(kf.split(df_train, train_y)):\n",
    "        if verbose:\n",
    "            print(f\"fold_{i} started\")\n",
    "\n",
    "        X_train = df_train.loc[train_index]\n",
    "        y_train = train_y.loc[train_index].values\n",
    "\n",
    "        if log_transform_target:\n",
    "            y_train = np.log1p(y_train)\n",
    "\n",
    "        if do_scaling:\n",
    "            scaler = StandardScaler()\n",
    "            columns = X_train.columns\n",
    "            X_train = scaler.fit_transform(X_train)\n",
    "            X_train = pd.DataFrame(X_train)\n",
    "            X_train.columns = columns\n",
    "\n",
    "        X_valid = df_train.loc[valid_index]\n",
    "        y_valid = train_y.loc[valid_index].values\n",
    "\n",
    "        if do_scaling:\n",
    "            X_valid = scaler.transform(X_valid)\n",
    "            X_valid = pd.DataFrame(X_valid)\n",
    "            X_valid.columns = columns\n",
    "\n",
    "        model_kf = deepcopy(model)\n",
    "\n",
    "        model_kf.fit(X_train, y_train)\n",
    "\n",
    "        if do_scaling:\n",
    "            df_test_scaled = scaler.transform(df_test)\n",
    "            df_test_scaled = pd.DataFrame(df_test_scaled)\n",
    "            df_test_scaled.columns = columns\n",
    "            prediction_kf = model_kf.predict(df_test_scaled)\n",
    "        else:\n",
    "            prediction_kf = model_kf.predict(df_test)\n",
    "\n",
    "        if log_transform_target:\n",
    "            prediction_kf = np.expm1(prediction_kf)\n",
    "\n",
    "        pred_test += prediction_kf / n_splits\n",
    "\n",
    "        prediction = model_kf.predict(X_valid)\n",
    "\n",
    "        if log_transform_target:\n",
    "            prediction = np.expm1(prediction)\n",
    "        oof_df.loc[valid_index, \"prediction_oof\"] = prediction\n",
    "\n",
    "        cur_metric = RMSLE(y_valid, prediction)\n",
    "        metrics.append(cur_metric)\n",
    "        if verbose:\n",
    "            print(f\"metric_{i}: {cur_metric}\")\n",
    "            print()\n",
    "            print(\"_\" * 100)\n",
    "            print()\n",
    "\n",
    "    metric_OOF = RMSLE(train_y, oof_df[\"prediction_oof\"])\n",
    "\n",
    "    if verbose:\n",
    "        print(f\"metric_OOF: {metric_OOF}\")\n",
    "        print(f\"metric_AVG: {np.mean(metrics)}\")\n",
    "        print(f\"metric_std: {np.std(metrics)}\")\n",
    "        print()\n",
    "        print(\"*\" * 100)\n",
    "        print()\n",
    "\n",
    "    return pred_test, oof_df, metric_OOF"
   ]
  },
  {
   "cell_type": "code",
   "execution_count": 14,
   "metadata": {},
   "outputs": [
    {
     "data": {
      "application/vnd.jupyter.widget-view+json": {
       "model_id": "365babb253e246079062a308fd0347cc",
       "version_major": 2,
       "version_minor": 0
      },
      "text/plain": [
       "HBox(children=(FloatProgress(value=0.0, description='n_neighbors search', max=29.0, style=ProgressStyle(descri…"
      ]
     },
     "metadata": {},
     "output_type": "display_data"
    },
    {
     "name": "stdout",
     "output_type": "stream",
     "text": [
      "\n"
     ]
    }
   ],
   "source": [
    "# Найдем оптимальный n_neighbors\n",
    "\n",
    "metric_list = []\n",
    "MAX_NEIGHBORS = 30\n",
    "n_neighbors_list = list(range(1, MAX_NEIGHBORS))\n",
    "\n",
    "for n_neighbors in tqdm(n_neighbors_list, desc=\"n_neighbors search\"):\n",
    "    model_knn = KNeighborsRegressor(\n",
    "        n_neighbors=n_neighbors, n_jobs=4, weights=\"distance\"\n",
    "    )\n",
    "    pred_test, oof_df, metric_OOF = cv_and_predict(\n",
    "        train, test, train_y, model_knn, n_splits=2, verbose=False\n",
    "    )\n",
    "    metric_list.append(metric_OOF)"
   ]
  },
  {
   "cell_type": "code",
   "execution_count": 15,
   "metadata": {},
   "outputs": [
    {
     "data": {
      "image/png": "[encoded data removed]",
      "text/plain": [
       "<Figure size 432x288 with 1 Axes>"
      ]
     },
     "metadata": {
      "needs_background": "light"
     },
     "output_type": "display_data"
    }
   ],
   "source": [
    "plt.plot(n_neighbors_list, metric_list);\n",
    "plt.xlabel(\"n_neighbors\");\n",
    "plt.ylabel(\"RMSLE_oof\");"
   ]
  },
  {
   "cell_type": "code",
   "execution_count": 16,
   "metadata": {},
   "outputs": [],
   "source": [
    "min_metric, best_n_neighbors_idx = min(\n",
    "    (val, idx) for (idx, val) in enumerate(metric_list)\n",
    ")\n",
    "best_n_neighbors = n_neighbors_list[best_n_neighbors_idx]"
   ]
  },
  {
   "cell_type": "code",
   "execution_count": 17,
   "metadata": {},
   "outputs": [
    {
     "data": {
      "text/plain": [
       "10"
      ]
     },
     "execution_count": 17,
     "metadata": {},
     "output_type": "execute_result"
    }
   ],
   "source": [
    "best_n_neighbors"
   ]
  },
  {
   "cell_type": "code",
   "execution_count": 18,
   "metadata": {},
   "outputs": [],
   "source": [
    "model_knn = KNeighborsRegressor(\n",
    "    n_neighbors=best_n_neighbors, n_jobs=4, weights=\"distance\"\n",
    ")"
   ]
  },
  {
   "cell_type": "code",
   "execution_count": 19,
   "metadata": {},
   "outputs": [
    {
     "name": "stdout",
     "output_type": "stream",
     "text": [
      "fold_0 started\n",
      "metric_0: 0.48511108248843116\n",
      "\n",
      "____________________________________________________________________________________________________\n",
      "\n",
      "fold_1 started\n",
      "metric_1: 0.4769493656706545\n",
      "\n",
      "____________________________________________________________________________________________________\n",
      "\n",
      "metric_OOF: 0.4810536335922347\n",
      "metric_AVG: 0.4810302240795428\n",
      "metric_std: 0.004080858408888333\n",
      "\n",
      "****************************************************************************************************\n",
      "\n",
      "CPU times: user 123 ms, sys: 19.1 ms, total: 142 ms\n",
      "Wall time: 445 ms\n"
     ]
    }
   ],
   "source": [
    "%%time\n",
    "\n",
    "pred_test, oof_df, metric_OOF = cv_and_predict(train, test, train_y, model_knn, n_splits=2)"
   ]
  },
  {
   "cell_type": "code",
   "execution_count": 20,
   "metadata": {},
   "outputs": [
    {
     "data": {
      "text/plain": [
       "0.9048047411379614"
      ]
     },
     "execution_count": 20,
     "metadata": {},
     "output_type": "execute_result"
    }
   ],
   "source": [
    "# Сравним OOF предсказания с константным бейзлайном и убедимся, что мы лучше\n",
    "\n",
    "best_constant = np.expm1(np.mean(np.log1p(train_y)))\n",
    "constant_baseline = np.ones(oof_df.shape[0]) * best_constant\n",
    "RMSLE(constant_baseline, oof_df[\"target\"])"
   ]
  },
  {
   "cell_type": "code",
   "execution_count": 21,
   "metadata": {},
   "outputs": [],
   "source": [
    "submission = pd.DataFrame()\n",
    "submission[\"id\"] = test_ids\n",
    "submission[\"charges\"] = pred_test"
   ]
  },
  {
   "cell_type": "code",
   "execution_count": 22,
   "metadata": {},
   "outputs": [
    {
     "data": {
      "text/html": [
       "<div>\n",
       "<style scoped>\n",
       "    .dataframe tbody tr th:only-of-type {\n",
       "        vertical-align: middle;\n",
       "    }\n",
       "\n",
       "    .dataframe tbody tr th {\n",
       "        vertical-align: top;\n",
       "    }\n",
       "\n",
       "    .dataframe thead th {\n",
       "        text-align: right;\n",
       "    }\n",
       "</style>\n",
       "<table border=\"1\" class=\"dataframe\">\n",
       "  <thead>\n",
       "    <tr style=\"text-align: right;\">\n",
       "      <th></th>\n",
       "      <th>id</th>\n",
       "      <th>charges</th>\n",
       "    </tr>\n",
       "  </thead>\n",
       "  <tbody>\n",
       "    <tr>\n",
       "      <th>0</th>\n",
       "      <td>770</td>\n",
       "      <td>8856.517856</td>\n",
       "    </tr>\n",
       "    <tr>\n",
       "      <th>1</th>\n",
       "      <td>771</td>\n",
       "      <td>4586.774504</td>\n",
       "    </tr>\n",
       "    <tr>\n",
       "      <th>2</th>\n",
       "      <td>772</td>\n",
       "      <td>24149.689937</td>\n",
       "    </tr>\n",
       "    <tr>\n",
       "      <th>3</th>\n",
       "      <td>773</td>\n",
       "      <td>8522.619868</td>\n",
       "    </tr>\n",
       "    <tr>\n",
       "      <th>4</th>\n",
       "      <td>774</td>\n",
       "      <td>22522.729460</td>\n",
       "    </tr>\n",
       "  </tbody>\n",
       "</table>\n",
       "</div>"
      ],
      "text/plain": [
       "    id       charges\n",
       "0  770   8856.517856\n",
       "1  771   4586.774504\n",
       "2  772  24149.689937\n",
       "3  773   8522.619868\n",
       "4  774  22522.729460"
      ]
     },
     "execution_count": 22,
     "metadata": {},
     "output_type": "execute_result"
    }
   ],
   "source": [
    "submission.head()"
   ]
  },
  {
   "cell_type": "code",
   "execution_count": 23,
   "metadata": {},
   "outputs": [],
   "source": [
    "submission.to_csv(\"submission_knn_n_splits_2.csv\", index=False)"
   ]
  }
 ],
 "metadata": {
  "kernelspec": {
   "display_name": "Python 3",
   "language": "python",
   "name": "python3"
  },
  "language_info": {
   "codemirror_mode": {
    "name": "ipython",
    "version": 3
   },
   "file_extension": ".py",
   "mimetype": "text/x-python",
   "name": "python",
   "nbconvert_exporter": "python",
   "pygments_lexer": "ipython3",
   "version": "3.7.6"
  }
 },
 "nbformat": 4,
 "nbformat_minor": 4
}
