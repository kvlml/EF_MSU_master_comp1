{
 "cells": [
  {
   "cell_type": "code",
   "execution_count": 1,
   "metadata": {},
   "outputs": [],
   "source": [
    "import pandas as pd\n",
    "import numpy as np"
   ]
  },
  {
   "cell_type": "code",
   "execution_count": 2,
   "metadata": {},
   "outputs": [],
   "source": [
    "from sklearn.model_selection import KFold\n",
    "from sklearn.neighbors import KNeighborsRegressor\n",
    "from sklearn.metrics import mean_squared_log_error\n",
    "from copy import deepcopy"
   ]
  },
  {
   "cell_type": "code",
   "execution_count": 3,
   "metadata": {},
   "outputs": [],
   "source": [
    "def RMSLE(y_true: np.ndarray, y_pred: np.ndarray) -> np.float64:\n",
    "    \"\"\"\n",
    "    The Root Mean Squared Log Error (RMSLE) metric\n",
    "\n",
    "    :param y_true: The ground truth labels given in the dataset\n",
    "    :param y_pred: Our predictions\n",
    "    \n",
    "    :return: The RMSLE score\n",
    "    \"\"\"\n",
    "    return np.sqrt(mean_squared_log_error(y_true, y_pred))"
   ]
  },
  {
   "cell_type": "code",
   "execution_count": 4,
   "metadata": {},
   "outputs": [],
   "source": [
    "train = pd.read_csv(\"data/train.csv\")\n",
    "test = pd.read_csv(\"data/test.csv\")\n",
    "train_y = train[\"charges\"]\n",
    "train.drop([\"charges\"], axis=1, inplace=True)"
   ]
  },
  {
   "cell_type": "code",
   "execution_count": 5,
   "metadata": {},
   "outputs": [],
   "source": [
    "train = pd.concat([train, pd.get_dummies(train[[\"sex\", \"region\", \"smoker\"]])], axis=1).drop(\n",
    "    [\"sex\", \"smoker\", \"region\"], axis=1\n",
    ")\n",
    "\n",
    "test = pd.concat([test, pd.get_dummies(test[[\"sex\", \"region\", \"smoker\"]])], axis=1).drop(\n",
    "    [\"sex\", \"smoker\", \"region\"], axis=1\n",
    ")"
   ]
  },
  {
   "cell_type": "code",
   "execution_count": 6,
   "metadata": {},
   "outputs": [],
   "source": [
    "def cv_and_predict(\n",
    "    df_train,\n",
    "    df_test,\n",
    "    train_y,\n",
    "    model,\n",
    "    n_splits=5,\n",
    "    random_state=42,\n",
    "):\n",
    "    \"\"\"\n",
    "    Функция для кросс-валидации и предикта на тест\n",
    "\n",
    "    :param df_train: Трейн-датафрейм\n",
    "    :param df_test: Тест-датафрейм\n",
    "    :param train_y: Ответы на трейн\n",
    "    :param model: Модель, которую мы хотим учить\n",
    "    :param n_splits: Количество сплитов для KFold\n",
    "    :param random_state: random_state для KFold\n",
    "\n",
    "    :return: pred_test: Предсказания на тест; oof_df: OOF предсказания\n",
    "    \"\"\"\n",
    "\n",
    "    kf = KFold(n_splits=n_splits, shuffle=True, random_state=random_state)\n",
    "\n",
    "    # В датафрейме oof_df будут храниться настоящий таргет трейна и OOF предсказания на трейна\n",
    "    # Инициализируем prediction_oof нулями и будем заполнять предсказаниями в процессе валидации\n",
    "    oof_df = pd.DataFrame()\n",
    "    oof_df[\"target\"] = train_y\n",
    "    oof_df[\"prediction_oof\"] = np.zeros(oof_df.shape[0])\n",
    "\n",
    "    # list с метриками по фолдам\n",
    "    metrics = []\n",
    "\n",
    "    # Предсказания на тест\n",
    "    pred_test = np.zeros(len(df_test))\n",
    "\n",
    "    # Кросс-валидация\n",
    "    for i, (train_index, valid_index) in enumerate(kf.split(df_train, train_y)):\n",
    "        print(f\"fold_{i} started\")\n",
    "\n",
    "        X_train = df_train.loc[train_index]\n",
    "        y_train = train_y.loc[train_index].values\n",
    "\n",
    "        X_valid = df_train.loc[valid_index]\n",
    "        y_valid = train_y.loc[valid_index].values\n",
    "\n",
    "        model_skf = deepcopy(model)\n",
    "\n",
    "        model_skf.fit(X_train, y_train)\n",
    "\n",
    "        prediction_skf = model_skf.predict(df_test)\n",
    "        pred_test += prediction_skf / n_splits\n",
    "\n",
    "        prediction = model_skf.predict(X_valid)\n",
    "        oof_df.loc[valid_index, \"prediction_oof\"] = prediction\n",
    "\n",
    "        cur_metric = RMSLE(y_valid, prediction)\n",
    "        print(f\"metric_{i}: {cur_metric}\")\n",
    "        metrics.append(cur_metric)\n",
    "\n",
    "        print()\n",
    "        print(\"_\" * 100)\n",
    "        print()\n",
    "\n",
    "    print(f\"metric_OOF: {RMSLE(train_y, oof_df['prediction_oof'])}\")\n",
    "    print()\n",
    "    print(\"*\" * 100)\n",
    "    print()\n",
    "\n",
    "    return pred_test, oof_df"
   ]
  },
  {
   "cell_type": "code",
   "execution_count": 7,
   "metadata": {},
   "outputs": [],
   "source": [
    "model_knn = KNeighborsRegressor(n_neighbors=50, n_jobs=4)"
   ]
  },
  {
   "cell_type": "code",
   "execution_count": 8,
   "metadata": {},
   "outputs": [
    {
     "name": "stdout",
     "output_type": "stream",
     "text": [
      "fold_0 started\n",
      "metric_0: 0.8998584596781326\n",
      "\n",
      "____________________________________________________________________________________________________\n",
      "\n",
      "fold_1 started\n",
      "metric_1: 0.895700439198397\n",
      "\n",
      "____________________________________________________________________________________________________\n",
      "\n",
      "fold_2 started\n",
      "metric_2: 0.8133744917141141\n",
      "\n",
      "____________________________________________________________________________________________________\n",
      "\n",
      "fold_3 started\n",
      "metric_3: 0.8461224416682782\n",
      "\n",
      "____________________________________________________________________________________________________\n",
      "\n",
      "fold_4 started\n",
      "metric_4: 0.8921192696727775\n",
      "\n",
      "____________________________________________________________________________________________________\n",
      "\n",
      "metric_OOF: 0.8700704119076483\n",
      "\n",
      "****************************************************************************************************\n",
      "\n",
      "CPU times: user 208 ms, sys: 9.79 ms, total: 218 ms\n",
      "Wall time: 1.08 s\n"
     ]
    }
   ],
   "source": [
    "%%time\n",
    "\n",
    "pred_test, oof_df = cv_and_predict(train, test, train_y, model_knn, n_splits=5)"
   ]
  },
  {
   "cell_type": "code",
   "execution_count": 9,
   "metadata": {},
   "outputs": [
    {
     "data": {
      "text/plain": [
       "0.9048047411379614"
      ]
     },
     "execution_count": 9,
     "metadata": {},
     "output_type": "execute_result"
    }
   ],
   "source": [
    "# Сравним OOF предсказания с константным бейзлайном и убедимся, что мы лучше\n",
    "\n",
    "best_constant = np.expm1(np.mean(np.log1p(train_y)))\n",
    "constant_baseline = np.ones(len(oof_df)) * np.expm1(np.mean(np.log1p(train_y)))\n",
    "RMSLE(constant_baseline, oof_df[\"target\"])"
   ]
  },
  {
   "cell_type": "code",
   "execution_count": 10,
   "metadata": {},
   "outputs": [],
   "source": [
    "submission = test.copy()\n",
    "submission[\"predict\"] = pred_test\n",
    "submission = submission[[\"predict\"]]"
   ]
  },
  {
   "cell_type": "code",
   "execution_count": 11,
   "metadata": {},
   "outputs": [],
   "source": [
    "submission.to_csv('submission_baseline.csv', index=False)"
   ]
  }
 ],
 "metadata": {
  "kernelspec": {
   "display_name": "Python 3",
   "language": "python",
   "name": "python3"
  },
  "language_info": {
   "codemirror_mode": {
    "name": "ipython",
    "version": 3
   },
   "file_extension": ".py",
   "mimetype": "text/x-python",
   "name": "python",
   "nbconvert_exporter": "python",
   "pygments_lexer": "ipython3",
   "version": "3.7.6"
  }
 },
 "nbformat": 4,
 "nbformat_minor": 4
}
