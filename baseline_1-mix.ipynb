{
 "cells": [
  {
   "cell_type": "code",
   "execution_count": 1,
   "metadata": {},
   "outputs": [
    {
     "data": {
      "application/javascript": [
       "\n",
       "            setTimeout(function() {\n",
       "                var nbb_cell_id = 1;\n",
       "                var nbb_unformatted_code = \"import pandas as pd\\nimport numpy as np\\n\\n%load_ext nb_black\";\n",
       "                var nbb_formatted_code = \"import pandas as pd\\nimport numpy as np\\n\\n%load_ext nb_black\";\n",
       "                var nbb_cells = Jupyter.notebook.get_cells();\n",
       "                for (var i = 0; i < nbb_cells.length; ++i) {\n",
       "                    if (nbb_cells[i].input_prompt_number == nbb_cell_id) {\n",
       "                        if (nbb_cells[i].get_text() == nbb_unformatted_code) {\n",
       "                             nbb_cells[i].set_text(nbb_formatted_code);\n",
       "                        }\n",
       "                        break;\n",
       "                    }\n",
       "                }\n",
       "            }, 500);\n",
       "            "
      ],
      "text/plain": [
       "<IPython.core.display.Javascript object>"
      ]
     },
     "metadata": {},
     "output_type": "display_data"
    }
   ],
   "source": [
    "import pandas as pd\n",
    "import numpy as np"
   ]
  },
  {
   "cell_type": "code",
   "execution_count": 2,
   "metadata": {},
   "outputs": [
    {
     "data": {
      "application/javascript": [
       "\n",
       "            setTimeout(function() {\n",
       "                var nbb_cell_id = 2;\n",
       "                var nbb_unformatted_code = \"from sklearn.model_selection import KFold\\nfrom sklearn.neighbors import KNeighborsRegressor\\nfrom sklearn.ensemble import RandomForestRegressor\\nfrom sklearn.metrics import mean_squared_log_error\\nfrom sklearn.preprocessing import StandardScaler\\nfrom copy import deepcopy\\nfrom tqdm.notebook import tqdm\\n\\nimport matplotlib.pyplot as plt\";\n",
       "                var nbb_formatted_code = \"from sklearn.model_selection import KFold\\nfrom sklearn.neighbors import KNeighborsRegressor\\nfrom sklearn.ensemble import RandomForestRegressor\\nfrom sklearn.metrics import mean_squared_log_error\\nfrom sklearn.preprocessing import StandardScaler\\nfrom copy import deepcopy\\nfrom tqdm.notebook import tqdm\\n\\nimport matplotlib.pyplot as plt\";\n",
       "                var nbb_cells = Jupyter.notebook.get_cells();\n",
       "                for (var i = 0; i < nbb_cells.length; ++i) {\n",
       "                    if (nbb_cells[i].input_prompt_number == nbb_cell_id) {\n",
       "                        if (nbb_cells[i].get_text() == nbb_unformatted_code) {\n",
       "                             nbb_cells[i].set_text(nbb_formatted_code);\n",
       "                        }\n",
       "                        break;\n",
       "                    }\n",
       "                }\n",
       "            }, 500);\n",
       "            "
      ],
      "text/plain": [
       "<IPython.core.display.Javascript object>"
      ]
     },
     "metadata": {},
     "output_type": "display_data"
    }
   ],
   "source": [
    "from sklearn.model_selection import KFold\n",
    "from sklearn.neighbors import KNeighborsRegressor\n",
    "from sklearn.ensemble import RandomForestRegressor\n",
    "from sklearn.metrics import mean_squared_log_error\n",
    "from sklearn.preprocessing import StandardScaler\n",
    "from copy import deepcopy\n",
    "from tqdm.notebook import tqdm\n",
    "\n",
    "import matplotlib.pyplot as plt"
   ]
  },
  {
   "cell_type": "code",
   "execution_count": 3,
   "metadata": {},
   "outputs": [
    {
     "data": {
      "application/javascript": [
       "\n",
       "            setTimeout(function() {\n",
       "                var nbb_cell_id = 3;\n",
       "                var nbb_unformatted_code = \"def RMSLE(y_true, y_pred):\\n    \\\"\\\"\\\"\\n    The Root Mean Squared Log Error (RMSLE) metric\\n\\n    :param y_true: The ground truth labels given in the dataset\\n    :param y_pred: Our predictions\\n\\n    :return: The RMSLE score\\n    \\\"\\\"\\\"\\n    return np.sqrt(mean_squared_log_error(y_true, y_pred))\";\n",
       "                var nbb_formatted_code = \"def RMSLE(y_true, y_pred):\\n    \\\"\\\"\\\"\\n    The Root Mean Squared Log Error (RMSLE) metric\\n\\n    :param y_true: The ground truth labels given in the dataset\\n    :param y_pred: Our predictions\\n\\n    :return: The RMSLE score\\n    \\\"\\\"\\\"\\n    return np.sqrt(mean_squared_log_error(y_true, y_pred))\";\n",
       "                var nbb_cells = Jupyter.notebook.get_cells();\n",
       "                for (var i = 0; i < nbb_cells.length; ++i) {\n",
       "                    if (nbb_cells[i].input_prompt_number == nbb_cell_id) {\n",
       "                        if (nbb_cells[i].get_text() == nbb_unformatted_code) {\n",
       "                             nbb_cells[i].set_text(nbb_formatted_code);\n",
       "                        }\n",
       "                        break;\n",
       "                    }\n",
       "                }\n",
       "            }, 500);\n",
       "            "
      ],
      "text/plain": [
       "<IPython.core.display.Javascript object>"
      ]
     },
     "metadata": {},
     "output_type": "display_data"
    }
   ],
   "source": [
    "def RMSLE(y_true, y_pred):\n",
    "    \"\"\"\n",
    "    The Root Mean Squared Log Error (RMSLE) metric\n",
    "\n",
    "    :param y_true: The ground truth labels given in the dataset\n",
    "    :param y_pred: Our predictions\n",
    "\n",
    "    :return: The RMSLE score\n",
    "    \"\"\"\n",
    "    return np.sqrt(mean_squared_log_error(y_true, y_pred))"
   ]
  },
  {
   "cell_type": "code",
   "execution_count": 4,
   "metadata": {},
   "outputs": [
    {
     "data": {
      "application/javascript": [
       "\n",
       "            setTimeout(function() {\n",
       "                var nbb_cell_id = 4;\n",
       "                var nbb_unformatted_code = \"train = pd.read_csv(\\\"data/train.csv\\\")\\ntest = pd.read_csv(\\\"data/test.csv\\\")\\n\\ntest_ids = test[\\\"id\\\"]\";\n",
       "                var nbb_formatted_code = \"train = pd.read_csv(\\\"data/train.csv\\\")\\ntest = pd.read_csv(\\\"data/test.csv\\\")\\n\\ntest_ids = test[\\\"id\\\"]\";\n",
       "                var nbb_cells = Jupyter.notebook.get_cells();\n",
       "                for (var i = 0; i < nbb_cells.length; ++i) {\n",
       "                    if (nbb_cells[i].input_prompt_number == nbb_cell_id) {\n",
       "                        if (nbb_cells[i].get_text() == nbb_unformatted_code) {\n",
       "                             nbb_cells[i].set_text(nbb_formatted_code);\n",
       "                        }\n",
       "                        break;\n",
       "                    }\n",
       "                }\n",
       "            }, 500);\n",
       "            "
      ],
      "text/plain": [
       "<IPython.core.display.Javascript object>"
      ]
     },
     "metadata": {},
     "output_type": "display_data"
    }
   ],
   "source": [
    "train = pd.read_csv(\"data/train.csv\")\n",
    "test = pd.read_csv(\"data/test.csv\")\n",
    "\n",
    "test_ids = test[\"id\"]"
   ]
  },
  {
   "cell_type": "code",
   "execution_count": 5,
   "metadata": {},
   "outputs": [
    {
     "data": {
      "text/html": [
       "<div>\n",
       "<style scoped>\n",
       "    .dataframe tbody tr th:only-of-type {\n",
       "        vertical-align: middle;\n",
       "    }\n",
       "\n",
       "    .dataframe tbody tr th {\n",
       "        vertical-align: top;\n",
       "    }\n",
       "\n",
       "    .dataframe thead th {\n",
       "        text-align: right;\n",
       "    }\n",
       "</style>\n",
       "<table border=\"1\" class=\"dataframe\">\n",
       "  <thead>\n",
       "    <tr style=\"text-align: right;\">\n",
       "      <th></th>\n",
       "      <th>age</th>\n",
       "      <th>sex</th>\n",
       "      <th>bmi</th>\n",
       "      <th>children</th>\n",
       "      <th>smoker</th>\n",
       "      <th>region</th>\n",
       "      <th>charges</th>\n",
       "      <th>id</th>\n",
       "    </tr>\n",
       "  </thead>\n",
       "  <tbody>\n",
       "    <tr>\n",
       "      <th>0</th>\n",
       "      <td>43</td>\n",
       "      <td>male</td>\n",
       "      <td>26.030</td>\n",
       "      <td>0</td>\n",
       "      <td>no</td>\n",
       "      <td>northeast</td>\n",
       "      <td>6837.36870</td>\n",
       "      <td>1</td>\n",
       "    </tr>\n",
       "    <tr>\n",
       "      <th>1</th>\n",
       "      <td>58</td>\n",
       "      <td>female</td>\n",
       "      <td>28.215</td>\n",
       "      <td>0</td>\n",
       "      <td>no</td>\n",
       "      <td>northwest</td>\n",
       "      <td>12224.35085</td>\n",
       "      <td>2</td>\n",
       "    </tr>\n",
       "    <tr>\n",
       "      <th>2</th>\n",
       "      <td>53</td>\n",
       "      <td>male</td>\n",
       "      <td>31.350</td>\n",
       "      <td>0</td>\n",
       "      <td>no</td>\n",
       "      <td>southeast</td>\n",
       "      <td>27346.04207</td>\n",
       "      <td>3</td>\n",
       "    </tr>\n",
       "    <tr>\n",
       "      <th>3</th>\n",
       "      <td>54</td>\n",
       "      <td>male</td>\n",
       "      <td>29.200</td>\n",
       "      <td>1</td>\n",
       "      <td>no</td>\n",
       "      <td>southwest</td>\n",
       "      <td>10436.09600</td>\n",
       "      <td>4</td>\n",
       "    </tr>\n",
       "    <tr>\n",
       "      <th>4</th>\n",
       "      <td>19</td>\n",
       "      <td>male</td>\n",
       "      <td>34.900</td>\n",
       "      <td>0</td>\n",
       "      <td>yes</td>\n",
       "      <td>southwest</td>\n",
       "      <td>34828.65400</td>\n",
       "      <td>5</td>\n",
       "    </tr>\n",
       "  </tbody>\n",
       "</table>\n",
       "</div>"
      ],
      "text/plain": [
       "   age     sex     bmi  children smoker     region      charges  id\n",
       "0   43    male  26.030         0     no  northeast   6837.36870   1\n",
       "1   58  female  28.215         0     no  northwest  12224.35085   2\n",
       "2   53    male  31.350         0     no  southeast  27346.04207   3\n",
       "3   54    male  29.200         1     no  southwest  10436.09600   4\n",
       "4   19    male  34.900         0    yes  southwest  34828.65400   5"
      ]
     },
     "execution_count": 5,
     "metadata": {},
     "output_type": "execute_result"
    },
    {
     "data": {
      "application/javascript": [
       "\n",
       "            setTimeout(function() {\n",
       "                var nbb_cell_id = 5;\n",
       "                var nbb_unformatted_code = \"train.head()\";\n",
       "                var nbb_formatted_code = \"train.head()\";\n",
       "                var nbb_cells = Jupyter.notebook.get_cells();\n",
       "                for (var i = 0; i < nbb_cells.length; ++i) {\n",
       "                    if (nbb_cells[i].input_prompt_number == nbb_cell_id) {\n",
       "                        if (nbb_cells[i].get_text() == nbb_unformatted_code) {\n",
       "                             nbb_cells[i].set_text(nbb_formatted_code);\n",
       "                        }\n",
       "                        break;\n",
       "                    }\n",
       "                }\n",
       "            }, 500);\n",
       "            "
      ],
      "text/plain": [
       "<IPython.core.display.Javascript object>"
      ]
     },
     "metadata": {},
     "output_type": "display_data"
    }
   ],
   "source": [
    "train.head()"
   ]
  },
  {
   "cell_type": "code",
   "execution_count": 6,
   "metadata": {},
   "outputs": [
    {
     "data": {
      "text/plain": [
       "<matplotlib.axes._subplots.AxesSubplot at 0x7fcd20baa890>"
      ]
     },
     "execution_count": 6,
     "metadata": {},
     "output_type": "execute_result"
    },
    {
     "data": {
      "image/png": "[encoded data removed]",
      "text/plain": [
       "<Figure size 432x288 with 1 Axes>"
      ]
     },
     "metadata": {
      "needs_background": "light"
     },
     "output_type": "display_data"
    },
    {
     "data": {
      "application/javascript": [
       "\n",
       "            setTimeout(function() {\n",
       "                var nbb_cell_id = 6;\n",
       "                var nbb_unformatted_code = \"train[\\\"charges\\\"].hist()\";\n",
       "                var nbb_formatted_code = \"train[\\\"charges\\\"].hist()\";\n",
       "                var nbb_cells = Jupyter.notebook.get_cells();\n",
       "                for (var i = 0; i < nbb_cells.length; ++i) {\n",
       "                    if (nbb_cells[i].input_prompt_number == nbb_cell_id) {\n",
       "                        if (nbb_cells[i].get_text() == nbb_unformatted_code) {\n",
       "                             nbb_cells[i].set_text(nbb_formatted_code);\n",
       "                        }\n",
       "                        break;\n",
       "                    }\n",
       "                }\n",
       "            }, 500);\n",
       "            "
      ],
      "text/plain": [
       "<IPython.core.display.Javascript object>"
      ]
     },
     "metadata": {},
     "output_type": "display_data"
    }
   ],
   "source": [
    "train[\"charges\"].hist();"
   ]
  },
  {
   "cell_type": "code",
   "execution_count": 7,
   "metadata": {},
   "outputs": [
    {
     "data": {
      "text/plain": [
       "<matplotlib.axes._subplots.AxesSubplot at 0x7fcd2014ac90>"
      ]
     },
     "execution_count": 7,
     "metadata": {},
     "output_type": "execute_result"
    },
    {
     "data": {
      "image/png": "[encoded data removed]",
      "text/plain": [
       "<Figure size 432x288 with 1 Axes>"
      ]
     },
     "metadata": {
      "needs_background": "light"
     },
     "output_type": "display_data"
    },
    {
     "data": {
      "application/javascript": [
       "\n",
       "            setTimeout(function() {\n",
       "                var nbb_cell_id = 7;\n",
       "                var nbb_unformatted_code = \"np.log1p(train[\\\"charges\\\"]).hist()\";\n",
       "                var nbb_formatted_code = \"np.log1p(train[\\\"charges\\\"]).hist()\";\n",
       "                var nbb_cells = Jupyter.notebook.get_cells();\n",
       "                for (var i = 0; i < nbb_cells.length; ++i) {\n",
       "                    if (nbb_cells[i].input_prompt_number == nbb_cell_id) {\n",
       "                        if (nbb_cells[i].get_text() == nbb_unformatted_code) {\n",
       "                             nbb_cells[i].set_text(nbb_formatted_code);\n",
       "                        }\n",
       "                        break;\n",
       "                    }\n",
       "                }\n",
       "            }, 500);\n",
       "            "
      ],
      "text/plain": [
       "<IPython.core.display.Javascript object>"
      ]
     },
     "metadata": {},
     "output_type": "display_data"
    }
   ],
   "source": [
    "np.log1p(train[\"charges\"]).hist();"
   ]
  },
  {
   "cell_type": "code",
   "execution_count": 8,
   "metadata": {},
   "outputs": [
    {
     "data": {
      "application/javascript": [
       "\n",
       "            setTimeout(function() {\n",
       "                var nbb_cell_id = 8;\n",
       "                var nbb_unformatted_code = \"# \\u0426\\u0435\\u043b\\u0435\\u0432\\u0430\\u044f \\u043f\\u0435\\u0440\\u0435\\u043c\\u0435\\u043d\\u043d\\u0430\\u044f\\n\\ntrain_y = train[\\\"charges\\\"]\\ntrain.drop([\\\"charges\\\"], axis=1, inplace=True)\";\n",
       "                var nbb_formatted_code = \"# \\u0426\\u0435\\u043b\\u0435\\u0432\\u0430\\u044f \\u043f\\u0435\\u0440\\u0435\\u043c\\u0435\\u043d\\u043d\\u0430\\u044f\\n\\ntrain_y = train[\\\"charges\\\"]\\ntrain.drop([\\\"charges\\\"], axis=1, inplace=True)\";\n",
       "                var nbb_cells = Jupyter.notebook.get_cells();\n",
       "                for (var i = 0; i < nbb_cells.length; ++i) {\n",
       "                    if (nbb_cells[i].input_prompt_number == nbb_cell_id) {\n",
       "                        if (nbb_cells[i].get_text() == nbb_unformatted_code) {\n",
       "                             nbb_cells[i].set_text(nbb_formatted_code);\n",
       "                        }\n",
       "                        break;\n",
       "                    }\n",
       "                }\n",
       "            }, 500);\n",
       "            "
      ],
      "text/plain": [
       "<IPython.core.display.Javascript object>"
      ]
     },
     "metadata": {},
     "output_type": "display_data"
    }
   ],
   "source": [
    "# Целевая переменная\n",
    "\n",
    "train_y = train[\"charges\"]\n",
    "train.drop([\"charges\"], axis=1, inplace=True)"
   ]
  },
  {
   "cell_type": "code",
   "execution_count": 9,
   "metadata": {},
   "outputs": [
    {
     "data": {
      "application/javascript": [
       "\n",
       "            setTimeout(function() {\n",
       "                var nbb_cell_id = 9;\n",
       "                var nbb_unformatted_code = \"train.drop([\\\"id\\\"], axis=1, inplace=True)\\ntest.drop([\\\"id\\\"], axis=1, inplace=True)\";\n",
       "                var nbb_formatted_code = \"train.drop([\\\"id\\\"], axis=1, inplace=True)\\ntest.drop([\\\"id\\\"], axis=1, inplace=True)\";\n",
       "                var nbb_cells = Jupyter.notebook.get_cells();\n",
       "                for (var i = 0; i < nbb_cells.length; ++i) {\n",
       "                    if (nbb_cells[i].input_prompt_number == nbb_cell_id) {\n",
       "                        if (nbb_cells[i].get_text() == nbb_unformatted_code) {\n",
       "                             nbb_cells[i].set_text(nbb_formatted_code);\n",
       "                        }\n",
       "                        break;\n",
       "                    }\n",
       "                }\n",
       "            }, 500);\n",
       "            "
      ],
      "text/plain": [
       "<IPython.core.display.Javascript object>"
      ]
     },
     "metadata": {},
     "output_type": "display_data"
    }
   ],
   "source": [
    "train.drop([\"id\"], axis=1, inplace=True)\n",
    "test.drop([\"id\"], axis=1, inplace=True)"
   ]
  },
  {
   "cell_type": "code",
   "execution_count": 10,
   "metadata": {},
   "outputs": [
    {
     "data": {
      "application/javascript": [
       "\n",
       "            setTimeout(function() {\n",
       "                var nbb_cell_id = 10;\n",
       "                var nbb_unformatted_code = \"# One-hot encoding \\u0434\\u043b\\u044f \\u043a\\u0430\\u0442\\u0435\\u0433\\u043e\\u0440\\u0438\\u0430\\u043b\\u044c\\u043d\\u044b\\u0445 \\u0444\\u0438\\u0447\\u0435\\u0439\\n\\ntrain = pd.concat(\\n    [\\n        train,\\n        pd.get_dummies(train[[\\\"sex\\\", \\\"region\\\", \\\"smoker\\\"]], drop_first=True),\\n    ],\\n    axis=1,\\n).drop([\\\"sex\\\", \\\"smoker\\\", \\\"region\\\"], axis=1)\\n\\ntest = pd.concat(\\n    [\\n        test,\\n        pd.get_dummies(test[[\\\"sex\\\", \\\"region\\\", \\\"smoker\\\"]], drop_first=True),\\n    ],\\n    axis=1,\\n).drop([\\\"sex\\\", \\\"smoker\\\", \\\"region\\\"], axis=1)\";\n",
       "                var nbb_formatted_code = \"# One-hot encoding \\u0434\\u043b\\u044f \\u043a\\u0430\\u0442\\u0435\\u0433\\u043e\\u0440\\u0438\\u0430\\u043b\\u044c\\u043d\\u044b\\u0445 \\u0444\\u0438\\u0447\\u0435\\u0439\\n\\ntrain = pd.concat(\\n    [\\n        train,\\n        pd.get_dummies(train[[\\\"sex\\\", \\\"region\\\", \\\"smoker\\\"]], drop_first=True),\\n    ],\\n    axis=1,\\n).drop([\\\"sex\\\", \\\"smoker\\\", \\\"region\\\"], axis=1)\\n\\ntest = pd.concat(\\n    [\\n        test,\\n        pd.get_dummies(test[[\\\"sex\\\", \\\"region\\\", \\\"smoker\\\"]], drop_first=True),\\n    ],\\n    axis=1,\\n).drop([\\\"sex\\\", \\\"smoker\\\", \\\"region\\\"], axis=1)\";\n",
       "                var nbb_cells = Jupyter.notebook.get_cells();\n",
       "                for (var i = 0; i < nbb_cells.length; ++i) {\n",
       "                    if (nbb_cells[i].input_prompt_number == nbb_cell_id) {\n",
       "                        if (nbb_cells[i].get_text() == nbb_unformatted_code) {\n",
       "                             nbb_cells[i].set_text(nbb_formatted_code);\n",
       "                        }\n",
       "                        break;\n",
       "                    }\n",
       "                }\n",
       "            }, 500);\n",
       "            "
      ],
      "text/plain": [
       "<IPython.core.display.Javascript object>"
      ]
     },
     "metadata": {},
     "output_type": "display_data"
    }
   ],
   "source": [
    "# One-hot encoding для категориальных фичей\n",
    "\n",
    "train = pd.concat(\n",
    "    [\n",
    "        train,\n",
    "        pd.get_dummies(train[[\"sex\", \"region\", \"smoker\"]], drop_first=True),\n",
    "    ],\n",
    "    axis=1,\n",
    ").drop([\"sex\", \"smoker\", \"region\"], axis=1)\n",
    "\n",
    "test = pd.concat(\n",
    "    [\n",
    "        test,\n",
    "        pd.get_dummies(test[[\"sex\", \"region\", \"smoker\"]], drop_first=True),\n",
    "    ],\n",
    "    axis=1,\n",
    ").drop([\"sex\", \"smoker\", \"region\"], axis=1)"
   ]
  },
  {
   "cell_type": "code",
   "execution_count": 11,
   "metadata": {},
   "outputs": [
    {
     "data": {
      "text/html": [
       "<div>\n",
       "<style scoped>\n",
       "    .dataframe tbody tr th:only-of-type {\n",
       "        vertical-align: middle;\n",
       "    }\n",
       "\n",
       "    .dataframe tbody tr th {\n",
       "        vertical-align: top;\n",
       "    }\n",
       "\n",
       "    .dataframe thead th {\n",
       "        text-align: right;\n",
       "    }\n",
       "</style>\n",
       "<table border=\"1\" class=\"dataframe\">\n",
       "  <thead>\n",
       "    <tr style=\"text-align: right;\">\n",
       "      <th></th>\n",
       "      <th>age</th>\n",
       "      <th>bmi</th>\n",
       "      <th>children</th>\n",
       "      <th>sex_male</th>\n",
       "      <th>region_northwest</th>\n",
       "      <th>region_southeast</th>\n",
       "      <th>region_southwest</th>\n",
       "      <th>smoker_yes</th>\n",
       "    </tr>\n",
       "  </thead>\n",
       "  <tbody>\n",
       "    <tr>\n",
       "      <th>0</th>\n",
       "      <td>43</td>\n",
       "      <td>26.030</td>\n",
       "      <td>0</td>\n",
       "      <td>1</td>\n",
       "      <td>0</td>\n",
       "      <td>0</td>\n",
       "      <td>0</td>\n",
       "      <td>0</td>\n",
       "    </tr>\n",
       "    <tr>\n",
       "      <th>1</th>\n",
       "      <td>58</td>\n",
       "      <td>28.215</td>\n",
       "      <td>0</td>\n",
       "      <td>0</td>\n",
       "      <td>1</td>\n",
       "      <td>0</td>\n",
       "      <td>0</td>\n",
       "      <td>0</td>\n",
       "    </tr>\n",
       "    <tr>\n",
       "      <th>2</th>\n",
       "      <td>53</td>\n",
       "      <td>31.350</td>\n",
       "      <td>0</td>\n",
       "      <td>1</td>\n",
       "      <td>0</td>\n",
       "      <td>1</td>\n",
       "      <td>0</td>\n",
       "      <td>0</td>\n",
       "    </tr>\n",
       "    <tr>\n",
       "      <th>3</th>\n",
       "      <td>54</td>\n",
       "      <td>29.200</td>\n",
       "      <td>1</td>\n",
       "      <td>1</td>\n",
       "      <td>0</td>\n",
       "      <td>0</td>\n",
       "      <td>1</td>\n",
       "      <td>0</td>\n",
       "    </tr>\n",
       "    <tr>\n",
       "      <th>4</th>\n",
       "      <td>19</td>\n",
       "      <td>34.900</td>\n",
       "      <td>0</td>\n",
       "      <td>1</td>\n",
       "      <td>0</td>\n",
       "      <td>0</td>\n",
       "      <td>1</td>\n",
       "      <td>1</td>\n",
       "    </tr>\n",
       "  </tbody>\n",
       "</table>\n",
       "</div>"
      ],
      "text/plain": [
       "   age     bmi  children  sex_male  region_northwest  region_southeast  \\\n",
       "0   43  26.030         0         1                 0                 0   \n",
       "1   58  28.215         0         0                 1                 0   \n",
       "2   53  31.350         0         1                 0                 1   \n",
       "3   54  29.200         1         1                 0                 0   \n",
       "4   19  34.900         0         1                 0                 0   \n",
       "\n",
       "   region_southwest  smoker_yes  \n",
       "0                 0           0  \n",
       "1                 0           0  \n",
       "2                 0           0  \n",
       "3                 1           0  \n",
       "4                 1           1  "
      ]
     },
     "execution_count": 11,
     "metadata": {},
     "output_type": "execute_result"
    },
    {
     "data": {
      "application/javascript": [
       "\n",
       "            setTimeout(function() {\n",
       "                var nbb_cell_id = 11;\n",
       "                var nbb_unformatted_code = \"train.head()\";\n",
       "                var nbb_formatted_code = \"train.head()\";\n",
       "                var nbb_cells = Jupyter.notebook.get_cells();\n",
       "                for (var i = 0; i < nbb_cells.length; ++i) {\n",
       "                    if (nbb_cells[i].input_prompt_number == nbb_cell_id) {\n",
       "                        if (nbb_cells[i].get_text() == nbb_unformatted_code) {\n",
       "                             nbb_cells[i].set_text(nbb_formatted_code);\n",
       "                        }\n",
       "                        break;\n",
       "                    }\n",
       "                }\n",
       "            }, 500);\n",
       "            "
      ],
      "text/plain": [
       "<IPython.core.display.Javascript object>"
      ]
     },
     "metadata": {},
     "output_type": "display_data"
    }
   ],
   "source": [
    "train.head()"
   ]
  },
  {
   "cell_type": "code",
   "execution_count": 12,
   "metadata": {},
   "outputs": [
    {
     "data": {
      "text/html": [
       "<div>\n",
       "<style scoped>\n",
       "    .dataframe tbody tr th:only-of-type {\n",
       "        vertical-align: middle;\n",
       "    }\n",
       "\n",
       "    .dataframe tbody tr th {\n",
       "        vertical-align: top;\n",
       "    }\n",
       "\n",
       "    .dataframe thead th {\n",
       "        text-align: right;\n",
       "    }\n",
       "</style>\n",
       "<table border=\"1\" class=\"dataframe\">\n",
       "  <thead>\n",
       "    <tr style=\"text-align: right;\">\n",
       "      <th></th>\n",
       "      <th>age</th>\n",
       "      <th>bmi</th>\n",
       "      <th>children</th>\n",
       "      <th>sex_male</th>\n",
       "      <th>region_northwest</th>\n",
       "      <th>region_southeast</th>\n",
       "      <th>region_southwest</th>\n",
       "      <th>smoker_yes</th>\n",
       "    </tr>\n",
       "  </thead>\n",
       "  <tbody>\n",
       "    <tr>\n",
       "      <th>0</th>\n",
       "      <td>45</td>\n",
       "      <td>25.175</td>\n",
       "      <td>2</td>\n",
       "      <td>0</td>\n",
       "      <td>0</td>\n",
       "      <td>0</td>\n",
       "      <td>0</td>\n",
       "      <td>0</td>\n",
       "    </tr>\n",
       "    <tr>\n",
       "      <th>1</th>\n",
       "      <td>36</td>\n",
       "      <td>30.020</td>\n",
       "      <td>0</td>\n",
       "      <td>0</td>\n",
       "      <td>1</td>\n",
       "      <td>0</td>\n",
       "      <td>0</td>\n",
       "      <td>0</td>\n",
       "    </tr>\n",
       "    <tr>\n",
       "      <th>2</th>\n",
       "      <td>64</td>\n",
       "      <td>26.885</td>\n",
       "      <td>0</td>\n",
       "      <td>0</td>\n",
       "      <td>1</td>\n",
       "      <td>0</td>\n",
       "      <td>0</td>\n",
       "      <td>1</td>\n",
       "    </tr>\n",
       "    <tr>\n",
       "      <th>3</th>\n",
       "      <td>46</td>\n",
       "      <td>25.745</td>\n",
       "      <td>3</td>\n",
       "      <td>1</td>\n",
       "      <td>1</td>\n",
       "      <td>0</td>\n",
       "      <td>0</td>\n",
       "      <td>0</td>\n",
       "    </tr>\n",
       "    <tr>\n",
       "      <th>4</th>\n",
       "      <td>19</td>\n",
       "      <td>31.920</td>\n",
       "      <td>0</td>\n",
       "      <td>1</td>\n",
       "      <td>1</td>\n",
       "      <td>0</td>\n",
       "      <td>0</td>\n",
       "      <td>1</td>\n",
       "    </tr>\n",
       "  </tbody>\n",
       "</table>\n",
       "</div>"
      ],
      "text/plain": [
       "   age     bmi  children  sex_male  region_northwest  region_southeast  \\\n",
       "0   45  25.175         2         0                 0                 0   \n",
       "1   36  30.020         0         0                 1                 0   \n",
       "2   64  26.885         0         0                 1                 0   \n",
       "3   46  25.745         3         1                 1                 0   \n",
       "4   19  31.920         0         1                 1                 0   \n",
       "\n",
       "   region_southwest  smoker_yes  \n",
       "0                 0           0  \n",
       "1                 0           0  \n",
       "2                 0           1  \n",
       "3                 0           0  \n",
       "4                 0           1  "
      ]
     },
     "execution_count": 12,
     "metadata": {},
     "output_type": "execute_result"
    },
    {
     "data": {
      "application/javascript": [
       "\n",
       "            setTimeout(function() {\n",
       "                var nbb_cell_id = 12;\n",
       "                var nbb_unformatted_code = \"test.head()\";\n",
       "                var nbb_formatted_code = \"test.head()\";\n",
       "                var nbb_cells = Jupyter.notebook.get_cells();\n",
       "                for (var i = 0; i < nbb_cells.length; ++i) {\n",
       "                    if (nbb_cells[i].input_prompt_number == nbb_cell_id) {\n",
       "                        if (nbb_cells[i].get_text() == nbb_unformatted_code) {\n",
       "                             nbb_cells[i].set_text(nbb_formatted_code);\n",
       "                        }\n",
       "                        break;\n",
       "                    }\n",
       "                }\n",
       "            }, 500);\n",
       "            "
      ],
      "text/plain": [
       "<IPython.core.display.Javascript object>"
      ]
     },
     "metadata": {},
     "output_type": "display_data"
    }
   ],
   "source": [
    "test.head()"
   ]
  },
  {
   "cell_type": "code",
   "execution_count": 13,
   "metadata": {},
   "outputs": [
    {
     "data": {
      "application/javascript": [
       "\n",
       "            setTimeout(function() {\n",
       "                var nbb_cell_id = 13;\n",
       "                var nbb_unformatted_code = \"def cv_and_predict(\\n    df_train,\\n    df_test,\\n    train_y,\\n    model,\\n    log_transform_target=True,\\n    do_scaling=True,\\n    n_splits=5,\\n    random_state=42,\\n    verbose=True,\\n):\\n    \\\"\\\"\\\"\\n    \\u0424\\u0443\\u043d\\u043a\\u0446\\u0438\\u044f \\u0434\\u043b\\u044f \\u043a\\u0440\\u043e\\u0441\\u0441-\\u0432\\u0430\\u043b\\u0438\\u0434\\u0430\\u0446\\u0438\\u0438 \\u0438 \\u043f\\u0440\\u0435\\u0434\\u0438\\u043a\\u0442\\u0430 \\u043d\\u0430 \\u0442\\u0435\\u0441\\u0442\\n\\n    :param df_train: \\u0422\\u0440\\u0435\\u0439\\u043d-\\u0434\\u0430\\u0442\\u0430\\u0444\\u0440\\u0435\\u0439\\u043c\\n    :param df_test: \\u0422\\u0435\\u0441\\u0442-\\u0434\\u0430\\u0442\\u0430\\u0444\\u0440\\u0435\\u0439\\u043c\\n    :param train_y: \\u041e\\u0442\\u0432\\u0435\\u0442\\u044b \\u043d\\u0430 \\u0442\\u0440\\u0435\\u0439\\u043d\\n    :param model: \\u041c\\u043e\\u0434\\u0435\\u043b\\u044c, \\u043a\\u043e\\u0442\\u043e\\u0440\\u0443\\u044e \\u043c\\u044b \\u0445\\u043e\\u0442\\u0438\\u043c \\u0443\\u0447\\u0438\\u0442\\u044c\\n    :param log_transform_target: \\u0414\\u0435\\u043b\\u0430\\u0435\\u043c \\u043b\\u0438 \\u043b\\u043e\\u0433-\\u0442\\u0440\\u0430\\u043d\\u0441\\u0444\\u043e\\u0440\\u043c\\u0430\\u0446\\u0438\\u044e \\u0442\\u0430\\u0440\\u0433\\u0435\\u0442\\u0430 \\u043f\\u0440\\u0438 \\u043e\\u0431\\u0443\\u0447\\u0435\\u043d\\u0438\\u0438\\n    :param do_scaling: \\u0414\\u0435\\u043b\\u0430\\u0435\\u043c \\u043b\\u0438 \\u0441\\u043a\\u0435\\u0439\\u043b\\u0438\\u043d\\u0433 \\u043f\\u0440\\u0438\\u0437\\u043d\\u0430\\u043a\\u043e\\u0432\\n    :param n_splits: \\u041a\\u043e\\u043b\\u0438\\u0447\\u0435\\u0441\\u0442\\u0432\\u043e \\u0441\\u043f\\u043b\\u0438\\u0442\\u043e\\u0432 \\u0434\\u043b\\u044f KFold\\n    :param random_state: random_state \\u0434\\u043b\\u044f KFold\\n    :param verbose: \\u0414\\u0435\\u043b\\u0430\\u0435\\u043c \\u043b\\u0438 print'\\u044b\\n\\n    :return: pred_test: \\u041f\\u0440\\u0435\\u0434\\u0441\\u043a\\u0430\\u0437\\u0430\\u043d\\u0438\\u044f \\u043d\\u0430 \\u0442\\u0435\\u0441\\u0442; oof_df: OOF \\u043f\\u0440\\u0435\\u0434\\u0441\\u043a\\u0430\\u0437\\u0430\\u043d\\u0438\\u044f\\n    \\\"\\\"\\\"\\n\\n    kf = KFold(n_splits=n_splits, shuffle=True, random_state=random_state)\\n\\n    # \\u0412 \\u0434\\u0430\\u0442\\u0430\\u0444\\u0440\\u0435\\u0439\\u043c\\u0435 oof_df \\u0431\\u0443\\u0434\\u0443\\u0442 \\u0445\\u0440\\u0430\\u043d\\u0438\\u0442\\u044c\\u0441\\u044f \\u043d\\u0430\\u0441\\u0442\\u043e\\u044f\\u0449\\u0438\\u0439 \\u0442\\u0430\\u0440\\u0433\\u0435\\u0442 \\u0442\\u0440\\u0435\\u0439\\u043d\\u0430 \\u0438 OOF \\u043f\\u0440\\u0435\\u0434\\u0441\\u043a\\u0430\\u0437\\u0430\\u043d\\u0438\\u044f \\u043d\\u0430 \\u0442\\u0440\\u0435\\u0439\\u043d.\\n    # \\u0418\\u043d\\u0438\\u0446\\u0438\\u0430\\u043b\\u0438\\u0437\\u0438\\u0440\\u0443\\u0435\\u043c prediction_oof \\u043d\\u0443\\u043b\\u044f\\u043c\\u0438 \\u0438 \\u0431\\u0443\\u0434\\u0435\\u043c \\u0437\\u0430\\u043f\\u043e\\u043b\\u043d\\u044f\\u0442\\u044c \\u043f\\u0440\\u0435\\u0434\\u0441\\u043a\\u0430\\u0437\\u0430\\u043d\\u0438\\u044f\\u043c\\u0438 \\u0432 \\u043f\\u0440\\u043e\\u0446\\u0435\\u0441\\u0441\\u0435 \\u0432\\u0430\\u043b\\u0438\\u0434\\u0430\\u0446\\u0438\\u0438\\n    oof_df = pd.DataFrame()\\n    oof_df[\\\"target\\\"] = train_y\\n    oof_df[\\\"prediction_oof\\\"] = np.zeros(oof_df.shape[0])\\n\\n    # \\u0421\\u043f\\u0438\\u0441\\u043e\\u043a \\u0441 \\u043c\\u0435\\u0442\\u0440\\u0438\\u043a\\u0430\\u043c\\u0438 \\u043f\\u043e \\u0444\\u043e\\u043b\\u0434\\u0430\\u043c\\n    metrics = []\\n\\n    # \\u041f\\u0440\\u0435\\u0434\\u0441\\u043a\\u0430\\u0437\\u0430\\u043d\\u0438\\u044f \\u043d\\u0430 \\u0442\\u0435\\u0441\\u0442. \\u0418\\u043d\\u0438\\u0446\\u0438\\u0430\\u043b\\u0438\\u0437\\u0438\\u0440\\u0443\\u0435\\u043c \\u043d\\u0443\\u043b\\u044f\\u043c\\u0438 \\u0438 \\u0431\\u0443\\u0434\\u0435\\u043c \\u0437\\u0430\\u043f\\u043e\\u043b\\u043d\\u044f\\u0442\\u044c \\u043f\\u0440\\u0435\\u0434\\u0441\\u043a\\u0430\\u0437\\u0430\\u043d\\u0438\\u044f\\u043c\\u0438 \\u0432 \\u043f\\u0440\\u043e\\u0446\\u0435\\u0441\\u0441\\u0435 \\u0432\\u0430\\u043b\\u0438\\u0434\\u0430\\u0446\\u0438\\u0438.\\n    # \\u041d\\u0430\\u0448\\u0438 \\u043f\\u0440\\u0435\\u0434\\u0441\\u043a\\u0430\\u0437\\u0430\\u043d\\u0438\\u044f \\u0431\\u0443\\u0434\\u0443\\u0442 \\u0443\\u0441\\u0440\\u0435\\u0434\\u043d\\u0435\\u043d\\u0438\\u0435\\u043c n_splits \\u043c\\u043e\\u0434\\u0435\\u043b\\u0435\\u0439\\n    pred_test = np.zeros(df_test.shape[0])\\n\\n    # \\u041a\\u0440\\u043e\\u0441\\u0441-\\u0432\\u0430\\u043b\\u0438\\u0434\\u0430\\u0446\\u0438\\u044f\\n    for i, (train_index, valid_index) in enumerate(kf.split(df_train, train_y)):\\n        if verbose:\\n            print(f\\\"fold_{i} started\\\")\\n\\n        X_train = df_train.loc[train_index]\\n        y_train = train_y.loc[train_index].values\\n\\n        if log_transform_target:\\n            y_train = np.log1p(y_train)\\n\\n        if do_scaling:\\n            scaler = StandardScaler()\\n            columns = X_train.columns\\n            X_train = scaler.fit_transform(X_train)\\n            X_train = pd.DataFrame(X_train)\\n            X_train.columns = columns\\n\\n        X_valid = df_train.loc[valid_index]\\n        y_valid = train_y.loc[valid_index].values\\n\\n        if do_scaling:\\n            X_valid = scaler.transform(X_valid)\\n            X_valid = pd.DataFrame(X_valid)\\n            X_valid.columns = columns\\n\\n        model_kf = deepcopy(model)\\n\\n        model_kf.fit(X_train, y_train)\\n\\n        if do_scaling:\\n            df_test_scaled = scaler.transform(df_test)\\n            df_test_scaled = pd.DataFrame(df_test_scaled)\\n            df_test_scaled.columns = columns\\n            prediction_kf = model_kf.predict(df_test_scaled)\\n        else:\\n            prediction_kf = model_kf.predict(df_test)\\n\\n        if log_transform_target:\\n            prediction_kf = np.expm1(prediction_kf)\\n\\n        pred_test += prediction_kf / n_splits\\n\\n        prediction = model_kf.predict(X_valid)\\n\\n        if log_transform_target:\\n            prediction = np.expm1(prediction)\\n        oof_df.loc[valid_index, \\\"prediction_oof\\\"] = prediction\\n\\n        cur_metric = RMSLE(y_valid, prediction)\\n        metrics.append(cur_metric)\\n        if verbose:\\n            print(f\\\"metric_{i}: {cur_metric}\\\")\\n            print()\\n            print(\\\"_\\\" * 100)\\n            print()\\n\\n    metric_OOF = RMSLE(train_y, oof_df[\\\"prediction_oof\\\"])\\n\\n    if verbose:\\n        print(f\\\"metric_OOF: {metric_OOF}\\\")\\n        print(f\\\"metric_AVG: {np.mean(metrics)}\\\")\\n        print(f\\\"metric_std: {np.std(metrics)}\\\")\\n        print()\\n        print(\\\"*\\\" * 100)\\n        print()\\n\\n    return pred_test, oof_df, metric_OOF\";\n",
       "                var nbb_formatted_code = \"def cv_and_predict(\\n    df_train,\\n    df_test,\\n    train_y,\\n    model,\\n    log_transform_target=True,\\n    do_scaling=True,\\n    n_splits=5,\\n    random_state=42,\\n    verbose=True,\\n):\\n    \\\"\\\"\\\"\\n    \\u0424\\u0443\\u043d\\u043a\\u0446\\u0438\\u044f \\u0434\\u043b\\u044f \\u043a\\u0440\\u043e\\u0441\\u0441-\\u0432\\u0430\\u043b\\u0438\\u0434\\u0430\\u0446\\u0438\\u0438 \\u0438 \\u043f\\u0440\\u0435\\u0434\\u0438\\u043a\\u0442\\u0430 \\u043d\\u0430 \\u0442\\u0435\\u0441\\u0442\\n\\n    :param df_train: \\u0422\\u0440\\u0435\\u0439\\u043d-\\u0434\\u0430\\u0442\\u0430\\u0444\\u0440\\u0435\\u0439\\u043c\\n    :param df_test: \\u0422\\u0435\\u0441\\u0442-\\u0434\\u0430\\u0442\\u0430\\u0444\\u0440\\u0435\\u0439\\u043c\\n    :param train_y: \\u041e\\u0442\\u0432\\u0435\\u0442\\u044b \\u043d\\u0430 \\u0442\\u0440\\u0435\\u0439\\u043d\\n    :param model: \\u041c\\u043e\\u0434\\u0435\\u043b\\u044c, \\u043a\\u043e\\u0442\\u043e\\u0440\\u0443\\u044e \\u043c\\u044b \\u0445\\u043e\\u0442\\u0438\\u043c \\u0443\\u0447\\u0438\\u0442\\u044c\\n    :param log_transform_target: \\u0414\\u0435\\u043b\\u0430\\u0435\\u043c \\u043b\\u0438 \\u043b\\u043e\\u0433-\\u0442\\u0440\\u0430\\u043d\\u0441\\u0444\\u043e\\u0440\\u043c\\u0430\\u0446\\u0438\\u044e \\u0442\\u0430\\u0440\\u0433\\u0435\\u0442\\u0430 \\u043f\\u0440\\u0438 \\u043e\\u0431\\u0443\\u0447\\u0435\\u043d\\u0438\\u0438\\n    :param do_scaling: \\u0414\\u0435\\u043b\\u0430\\u0435\\u043c \\u043b\\u0438 \\u0441\\u043a\\u0435\\u0439\\u043b\\u0438\\u043d\\u0433 \\u043f\\u0440\\u0438\\u0437\\u043d\\u0430\\u043a\\u043e\\u0432\\n    :param n_splits: \\u041a\\u043e\\u043b\\u0438\\u0447\\u0435\\u0441\\u0442\\u0432\\u043e \\u0441\\u043f\\u043b\\u0438\\u0442\\u043e\\u0432 \\u0434\\u043b\\u044f KFold\\n    :param random_state: random_state \\u0434\\u043b\\u044f KFold\\n    :param verbose: \\u0414\\u0435\\u043b\\u0430\\u0435\\u043c \\u043b\\u0438 print'\\u044b\\n\\n    :return: pred_test: \\u041f\\u0440\\u0435\\u0434\\u0441\\u043a\\u0430\\u0437\\u0430\\u043d\\u0438\\u044f \\u043d\\u0430 \\u0442\\u0435\\u0441\\u0442; oof_df: OOF \\u043f\\u0440\\u0435\\u0434\\u0441\\u043a\\u0430\\u0437\\u0430\\u043d\\u0438\\u044f\\n    \\\"\\\"\\\"\\n\\n    kf = KFold(n_splits=n_splits, shuffle=True, random_state=random_state)\\n\\n    # \\u0412 \\u0434\\u0430\\u0442\\u0430\\u0444\\u0440\\u0435\\u0439\\u043c\\u0435 oof_df \\u0431\\u0443\\u0434\\u0443\\u0442 \\u0445\\u0440\\u0430\\u043d\\u0438\\u0442\\u044c\\u0441\\u044f \\u043d\\u0430\\u0441\\u0442\\u043e\\u044f\\u0449\\u0438\\u0439 \\u0442\\u0430\\u0440\\u0433\\u0435\\u0442 \\u0442\\u0440\\u0435\\u0439\\u043d\\u0430 \\u0438 OOF \\u043f\\u0440\\u0435\\u0434\\u0441\\u043a\\u0430\\u0437\\u0430\\u043d\\u0438\\u044f \\u043d\\u0430 \\u0442\\u0440\\u0435\\u0439\\u043d.\\n    # \\u0418\\u043d\\u0438\\u0446\\u0438\\u0430\\u043b\\u0438\\u0437\\u0438\\u0440\\u0443\\u0435\\u043c prediction_oof \\u043d\\u0443\\u043b\\u044f\\u043c\\u0438 \\u0438 \\u0431\\u0443\\u0434\\u0435\\u043c \\u0437\\u0430\\u043f\\u043e\\u043b\\u043d\\u044f\\u0442\\u044c \\u043f\\u0440\\u0435\\u0434\\u0441\\u043a\\u0430\\u0437\\u0430\\u043d\\u0438\\u044f\\u043c\\u0438 \\u0432 \\u043f\\u0440\\u043e\\u0446\\u0435\\u0441\\u0441\\u0435 \\u0432\\u0430\\u043b\\u0438\\u0434\\u0430\\u0446\\u0438\\u0438\\n    oof_df = pd.DataFrame()\\n    oof_df[\\\"target\\\"] = train_y\\n    oof_df[\\\"prediction_oof\\\"] = np.zeros(oof_df.shape[0])\\n\\n    # \\u0421\\u043f\\u0438\\u0441\\u043e\\u043a \\u0441 \\u043c\\u0435\\u0442\\u0440\\u0438\\u043a\\u0430\\u043c\\u0438 \\u043f\\u043e \\u0444\\u043e\\u043b\\u0434\\u0430\\u043c\\n    metrics = []\\n\\n    # \\u041f\\u0440\\u0435\\u0434\\u0441\\u043a\\u0430\\u0437\\u0430\\u043d\\u0438\\u044f \\u043d\\u0430 \\u0442\\u0435\\u0441\\u0442. \\u0418\\u043d\\u0438\\u0446\\u0438\\u0430\\u043b\\u0438\\u0437\\u0438\\u0440\\u0443\\u0435\\u043c \\u043d\\u0443\\u043b\\u044f\\u043c\\u0438 \\u0438 \\u0431\\u0443\\u0434\\u0435\\u043c \\u0437\\u0430\\u043f\\u043e\\u043b\\u043d\\u044f\\u0442\\u044c \\u043f\\u0440\\u0435\\u0434\\u0441\\u043a\\u0430\\u0437\\u0430\\u043d\\u0438\\u044f\\u043c\\u0438 \\u0432 \\u043f\\u0440\\u043e\\u0446\\u0435\\u0441\\u0441\\u0435 \\u0432\\u0430\\u043b\\u0438\\u0434\\u0430\\u0446\\u0438\\u0438.\\n    # \\u041d\\u0430\\u0448\\u0438 \\u043f\\u0440\\u0435\\u0434\\u0441\\u043a\\u0430\\u0437\\u0430\\u043d\\u0438\\u044f \\u0431\\u0443\\u0434\\u0443\\u0442 \\u0443\\u0441\\u0440\\u0435\\u0434\\u043d\\u0435\\u043d\\u0438\\u0435\\u043c n_splits \\u043c\\u043e\\u0434\\u0435\\u043b\\u0435\\u0439\\n    pred_test = np.zeros(df_test.shape[0])\\n\\n    # \\u041a\\u0440\\u043e\\u0441\\u0441-\\u0432\\u0430\\u043b\\u0438\\u0434\\u0430\\u0446\\u0438\\u044f\\n    for i, (train_index, valid_index) in enumerate(kf.split(df_train, train_y)):\\n        if verbose:\\n            print(f\\\"fold_{i} started\\\")\\n\\n        X_train = df_train.loc[train_index]\\n        y_train = train_y.loc[train_index].values\\n\\n        if log_transform_target:\\n            y_train = np.log1p(y_train)\\n\\n        if do_scaling:\\n            scaler = StandardScaler()\\n            columns = X_train.columns\\n            X_train = scaler.fit_transform(X_train)\\n            X_train = pd.DataFrame(X_train)\\n            X_train.columns = columns\\n\\n        X_valid = df_train.loc[valid_index]\\n        y_valid = train_y.loc[valid_index].values\\n\\n        if do_scaling:\\n            X_valid = scaler.transform(X_valid)\\n            X_valid = pd.DataFrame(X_valid)\\n            X_valid.columns = columns\\n\\n        model_kf = deepcopy(model)\\n\\n        model_kf.fit(X_train, y_train)\\n\\n        if do_scaling:\\n            df_test_scaled = scaler.transform(df_test)\\n            df_test_scaled = pd.DataFrame(df_test_scaled)\\n            df_test_scaled.columns = columns\\n            prediction_kf = model_kf.predict(df_test_scaled)\\n        else:\\n            prediction_kf = model_kf.predict(df_test)\\n\\n        if log_transform_target:\\n            prediction_kf = np.expm1(prediction_kf)\\n\\n        pred_test += prediction_kf / n_splits\\n\\n        prediction = model_kf.predict(X_valid)\\n\\n        if log_transform_target:\\n            prediction = np.expm1(prediction)\\n        oof_df.loc[valid_index, \\\"prediction_oof\\\"] = prediction\\n\\n        cur_metric = RMSLE(y_valid, prediction)\\n        metrics.append(cur_metric)\\n        if verbose:\\n            print(f\\\"metric_{i}: {cur_metric}\\\")\\n            print()\\n            print(\\\"_\\\" * 100)\\n            print()\\n\\n    metric_OOF = RMSLE(train_y, oof_df[\\\"prediction_oof\\\"])\\n\\n    if verbose:\\n        print(f\\\"metric_OOF: {metric_OOF}\\\")\\n        print(f\\\"metric_AVG: {np.mean(metrics)}\\\")\\n        print(f\\\"metric_std: {np.std(metrics)}\\\")\\n        print()\\n        print(\\\"*\\\" * 100)\\n        print()\\n\\n    return pred_test, oof_df, metric_OOF\";\n",
       "                var nbb_cells = Jupyter.notebook.get_cells();\n",
       "                for (var i = 0; i < nbb_cells.length; ++i) {\n",
       "                    if (nbb_cells[i].input_prompt_number == nbb_cell_id) {\n",
       "                        if (nbb_cells[i].get_text() == nbb_unformatted_code) {\n",
       "                             nbb_cells[i].set_text(nbb_formatted_code);\n",
       "                        }\n",
       "                        break;\n",
       "                    }\n",
       "                }\n",
       "            }, 500);\n",
       "            "
      ],
      "text/plain": [
       "<IPython.core.display.Javascript object>"
      ]
     },
     "metadata": {},
     "output_type": "display_data"
    }
   ],
   "source": [
    "def cv_and_predict(\n",
    "    df_train,\n",
    "    df_test,\n",
    "    train_y,\n",
    "    model,\n",
    "    log_transform_target=True,\n",
    "    do_scaling=True,\n",
    "    n_splits=5,\n",
    "    random_state=42,\n",
    "    verbose=True,\n",
    "):\n",
    "    \"\"\"\n",
    "    Функция для кросс-валидации и предикта на тест\n",
    "\n",
    "    :param df_train: Трейн-датафрейм\n",
    "    :param df_test: Тест-датафрейм\n",
    "    :param train_y: Ответы на трейн\n",
    "    :param model: Модель, которую мы хотим учить\n",
    "    :param log_transform_target: Делаем ли лог-трансформацию таргета при обучении\n",
    "    :param do_scaling: Делаем ли скейлинг признаков\n",
    "    :param n_splits: Количество сплитов для KFold\n",
    "    :param random_state: random_state для KFold\n",
    "    :param verbose: Делаем ли print'ы\n",
    "\n",
    "    :return: pred_test: Предсказания на тест; oof_df: OOF предсказания\n",
    "    \"\"\"\n",
    "\n",
    "    kf = KFold(n_splits=n_splits, shuffle=True, random_state=random_state)\n",
    "\n",
    "    # В датафрейме oof_df будут храниться настоящий таргет трейна и OOF предсказания на трейн.\n",
    "    # Инициализируем prediction_oof нулями и будем заполнять предсказаниями в процессе валидации\n",
    "    oof_df = pd.DataFrame()\n",
    "    oof_df[\"target\"] = train_y\n",
    "    oof_df[\"prediction_oof\"] = np.zeros(oof_df.shape[0])\n",
    "\n",
    "    # Список с метриками по фолдам\n",
    "    metrics = []\n",
    "\n",
    "    # Предсказания на тест. Инициализируем нулями и будем заполнять предсказаниями в процессе валидации.\n",
    "    # Наши предсказания будут усреднением n_splits моделей\n",
    "    pred_test = np.zeros(df_test.shape[0])\n",
    "\n",
    "    # Кросс-валидация\n",
    "    for i, (train_index, valid_index) in enumerate(kf.split(df_train, train_y)):\n",
    "        if verbose:\n",
    "            print(f\"fold_{i} started\")\n",
    "\n",
    "        X_train = df_train.loc[train_index]\n",
    "        y_train = train_y.loc[train_index].values\n",
    "\n",
    "        if log_transform_target:\n",
    "            y_train = np.log1p(y_train)\n",
    "\n",
    "        if do_scaling:\n",
    "            scaler = StandardScaler()\n",
    "            columns = X_train.columns\n",
    "            X_train = scaler.fit_transform(X_train)\n",
    "            X_train = pd.DataFrame(X_train)\n",
    "            X_train.columns = columns\n",
    "\n",
    "        X_valid = df_train.loc[valid_index]\n",
    "        y_valid = train_y.loc[valid_index].values\n",
    "\n",
    "        if do_scaling:\n",
    "            X_valid = scaler.transform(X_valid)\n",
    "            X_valid = pd.DataFrame(X_valid)\n",
    "            X_valid.columns = columns\n",
    "\n",
    "        model_kf = deepcopy(model)\n",
    "\n",
    "        model_kf.fit(X_train, y_train)\n",
    "\n",
    "        if do_scaling:\n",
    "            df_test_scaled = scaler.transform(df_test)\n",
    "            df_test_scaled = pd.DataFrame(df_test_scaled)\n",
    "            df_test_scaled.columns = columns\n",
    "            prediction_kf = model_kf.predict(df_test_scaled)\n",
    "        else:\n",
    "            prediction_kf = model_kf.predict(df_test)\n",
    "\n",
    "        if log_transform_target:\n",
    "            prediction_kf = np.expm1(prediction_kf)\n",
    "\n",
    "        pred_test += prediction_kf / n_splits\n",
    "\n",
    "        prediction = model_kf.predict(X_valid)\n",
    "\n",
    "        if log_transform_target:\n",
    "            prediction = np.expm1(prediction)\n",
    "        oof_df.loc[valid_index, \"prediction_oof\"] = prediction\n",
    "\n",
    "        cur_metric = RMSLE(y_valid, prediction)\n",
    "        metrics.append(cur_metric)\n",
    "        if verbose:\n",
    "            print(f\"metric_{i}: {cur_metric}\")\n",
    "            print()\n",
    "            print(\"_\" * 100)\n",
    "            print()\n",
    "\n",
    "    metric_OOF = RMSLE(train_y, oof_df[\"prediction_oof\"])\n",
    "\n",
    "    if verbose:\n",
    "        print(f\"metric_OOF: {metric_OOF}\")\n",
    "        print(f\"metric_AVG: {np.mean(metrics)}\")\n",
    "        print(f\"metric_std: {np.std(metrics)}\")\n",
    "        print()\n",
    "        print(\"*\" * 100)\n",
    "        print()\n",
    "\n",
    "    return pred_test, oof_df, metric_OOF"
   ]
  },
  {
   "cell_type": "code",
   "execution_count": 14,
   "metadata": {},
   "outputs": [
    {
     "data": {
      "application/javascript": [
       "\n",
       "            setTimeout(function() {\n",
       "                var nbb_cell_id = 14;\n",
       "                var nbb_unformatted_code = \"n_splits = 15\";\n",
       "                var nbb_formatted_code = \"n_splits = 15\";\n",
       "                var nbb_cells = Jupyter.notebook.get_cells();\n",
       "                for (var i = 0; i < nbb_cells.length; ++i) {\n",
       "                    if (nbb_cells[i].input_prompt_number == nbb_cell_id) {\n",
       "                        if (nbb_cells[i].get_text() == nbb_unformatted_code) {\n",
       "                             nbb_cells[i].set_text(nbb_formatted_code);\n",
       "                        }\n",
       "                        break;\n",
       "                    }\n",
       "                }\n",
       "            }, 500);\n",
       "            "
      ],
      "text/plain": [
       "<IPython.core.display.Javascript object>"
      ]
     },
     "metadata": {},
     "output_type": "display_data"
    }
   ],
   "source": [
    "n_splits = 15"
   ]
  },
  {
   "cell_type": "code",
   "execution_count": 15,
   "metadata": {},
   "outputs": [
    {
     "data": {
      "application/vnd.jupyter.widget-view+json": {
       "model_id": "ef14ffba471d498a9929f21dbc454669",
       "version_major": 2,
       "version_minor": 0
      },
      "text/plain": [
       "HBox(children=(FloatProgress(value=0.0, description='n_neighbors search', max=29.0, style=ProgressStyle(descri…"
      ]
     },
     "metadata": {},
     "output_type": "display_data"
    },
    {
     "name": "stdout",
     "output_type": "stream",
     "text": [
      "\n"
     ]
    },
    {
     "data": {
      "application/javascript": [
       "\n",
       "            setTimeout(function() {\n",
       "                var nbb_cell_id = 15;\n",
       "                var nbb_unformatted_code = \"# \\u041d\\u0430\\u0439\\u0434\\u0435\\u043c \\u043e\\u043f\\u0442\\u0438\\u043c\\u0430\\u043b\\u044c\\u043d\\u044b\\u0439 n_neighbors\\n\\nmetric_list = []\\nMAX_NEIGHBORS = 30\\nn_neighbors_list = list(range(1, MAX_NEIGHBORS))\\n\\nfor n_neighbors in tqdm(n_neighbors_list, desc=\\\"n_neighbors search\\\"):\\n    model_knn = KNeighborsRegressor(\\n        n_neighbors=n_neighbors, n_jobs=4, weights=\\\"distance\\\"\\n    )\\n    pred_test, oof_df, metric_OOF = cv_and_predict(\\n        train, test, train_y, model_knn, n_splits=n_splits, verbose=False\\n    )\\n    metric_list.append(metric_OOF)\\n\\nmin_metric, best_n_neighbors_idx = min(\\n    (val, idx) for (idx, val) in enumerate(metric_list)\\n)\\nbest_n_neighbors = n_neighbors_list[best_n_neighbors_idx]\";\n",
       "                var nbb_formatted_code = \"# \\u041d\\u0430\\u0439\\u0434\\u0435\\u043c \\u043e\\u043f\\u0442\\u0438\\u043c\\u0430\\u043b\\u044c\\u043d\\u044b\\u0439 n_neighbors\\n\\nmetric_list = []\\nMAX_NEIGHBORS = 30\\nn_neighbors_list = list(range(1, MAX_NEIGHBORS))\\n\\nfor n_neighbors in tqdm(n_neighbors_list, desc=\\\"n_neighbors search\\\"):\\n    model_knn = KNeighborsRegressor(\\n        n_neighbors=n_neighbors, n_jobs=4, weights=\\\"distance\\\"\\n    )\\n    pred_test, oof_df, metric_OOF = cv_and_predict(\\n        train, test, train_y, model_knn, n_splits=n_splits, verbose=False\\n    )\\n    metric_list.append(metric_OOF)\\n\\nmin_metric, best_n_neighbors_idx = min(\\n    (val, idx) for (idx, val) in enumerate(metric_list)\\n)\\nbest_n_neighbors = n_neighbors_list[best_n_neighbors_idx]\";\n",
       "                var nbb_cells = Jupyter.notebook.get_cells();\n",
       "                for (var i = 0; i < nbb_cells.length; ++i) {\n",
       "                    if (nbb_cells[i].input_prompt_number == nbb_cell_id) {\n",
       "                        if (nbb_cells[i].get_text() == nbb_unformatted_code) {\n",
       "                             nbb_cells[i].set_text(nbb_formatted_code);\n",
       "                        }\n",
       "                        break;\n",
       "                    }\n",
       "                }\n",
       "            }, 500);\n",
       "            "
      ],
      "text/plain": [
       "<IPython.core.display.Javascript object>"
      ]
     },
     "metadata": {},
     "output_type": "display_data"
    }
   ],
   "source": [
    "# Найдем оптимальный n_neighbors\n",
    "\n",
    "metric_list = []\n",
    "MAX_NEIGHBORS = 30\n",
    "n_neighbors_list = list(range(1, MAX_NEIGHBORS))\n",
    "\n",
    "for n_neighbors in tqdm(n_neighbors_list, desc=\"n_neighbors search\"):\n",
    "    model_knn = KNeighborsRegressor(\n",
    "        n_neighbors=n_neighbors, n_jobs=4, weights=\"distance\"\n",
    "    )\n",
    "    pred_test, oof_df, metric_OOF = cv_and_predict(\n",
    "        train, test, train_y, model_knn, n_splits=n_splits, verbose=False\n",
    "    )\n",
    "    metric_list.append(metric_OOF)\n",
    "\n",
    "min_metric, best_n_neighbors_idx = min(\n",
    "    (val, idx) for (idx, val) in enumerate(metric_list)\n",
    ")\n",
    "best_n_neighbors = n_neighbors_list[best_n_neighbors_idx]"
   ]
  },
  {
   "cell_type": "code",
   "execution_count": 16,
   "metadata": {},
   "outputs": [
    {
     "data": {
      "text/plain": [
       "9"
      ]
     },
     "execution_count": 16,
     "metadata": {},
     "output_type": "execute_result"
    },
    {
     "data": {
      "application/javascript": [
       "\n",
       "            setTimeout(function() {\n",
       "                var nbb_cell_id = 16;\n",
       "                var nbb_unformatted_code = \"best_n_neighbors\";\n",
       "                var nbb_formatted_code = \"best_n_neighbors\";\n",
       "                var nbb_cells = Jupyter.notebook.get_cells();\n",
       "                for (var i = 0; i < nbb_cells.length; ++i) {\n",
       "                    if (nbb_cells[i].input_prompt_number == nbb_cell_id) {\n",
       "                        if (nbb_cells[i].get_text() == nbb_unformatted_code) {\n",
       "                             nbb_cells[i].set_text(nbb_formatted_code);\n",
       "                        }\n",
       "                        break;\n",
       "                    }\n",
       "                }\n",
       "            }, 500);\n",
       "            "
      ],
      "text/plain": [
       "<IPython.core.display.Javascript object>"
      ]
     },
     "metadata": {},
     "output_type": "display_data"
    }
   ],
   "source": [
    "best_n_neighbors"
   ]
  },
  {
   "cell_type": "code",
   "execution_count": 17,
   "metadata": {},
   "outputs": [
    {
     "data": {
      "application/javascript": [
       "\n",
       "            setTimeout(function() {\n",
       "                var nbb_cell_id = 17;\n",
       "                var nbb_unformatted_code = \"best_max_depth = 4\\n# best_n_neighbors = 12\";\n",
       "                var nbb_formatted_code = \"best_max_depth = 4\\n# best_n_neighbors = 12\";\n",
       "                var nbb_cells = Jupyter.notebook.get_cells();\n",
       "                for (var i = 0; i < nbb_cells.length; ++i) {\n",
       "                    if (nbb_cells[i].input_prompt_number == nbb_cell_id) {\n",
       "                        if (nbb_cells[i].get_text() == nbb_unformatted_code) {\n",
       "                             nbb_cells[i].set_text(nbb_formatted_code);\n",
       "                        }\n",
       "                        break;\n",
       "                    }\n",
       "                }\n",
       "            }, 500);\n",
       "            "
      ],
      "text/plain": [
       "<IPython.core.display.Javascript object>"
      ]
     },
     "metadata": {},
     "output_type": "display_data"
    }
   ],
   "source": [
    "best_max_depth = 4"
   ]
  },
  {
   "cell_type": "code",
   "execution_count": 18,
   "metadata": {},
   "outputs": [
    {
     "data": {
      "application/javascript": [
       "\n",
       "            setTimeout(function() {\n",
       "                var nbb_cell_id = 18;\n",
       "                var nbb_unformatted_code = \"model_rf = RandomForestRegressor(\\n    n_estimators=1000, max_depth=best_max_depth, random_state=1337, n_jobs=4\\n)\\nmodel_knn = model_knn = KNeighborsRegressor(\\n    n_neighbors=best_n_neighbors, n_jobs=4, weights=\\\"distance\\\"\\n)\";\n",
       "                var nbb_formatted_code = \"model_rf = RandomForestRegressor(\\n    n_estimators=1000, max_depth=best_max_depth, random_state=1337, n_jobs=4\\n)\\nmodel_knn = model_knn = KNeighborsRegressor(\\n    n_neighbors=best_n_neighbors, n_jobs=4, weights=\\\"distance\\\"\\n)\";\n",
       "                var nbb_cells = Jupyter.notebook.get_cells();\n",
       "                for (var i = 0; i < nbb_cells.length; ++i) {\n",
       "                    if (nbb_cells[i].input_prompt_number == nbb_cell_id) {\n",
       "                        if (nbb_cells[i].get_text() == nbb_unformatted_code) {\n",
       "                             nbb_cells[i].set_text(nbb_formatted_code);\n",
       "                        }\n",
       "                        break;\n",
       "                    }\n",
       "                }\n",
       "            }, 500);\n",
       "            "
      ],
      "text/plain": [
       "<IPython.core.display.Javascript object>"
      ]
     },
     "metadata": {},
     "output_type": "display_data"
    }
   ],
   "source": [
    "model_rf = RandomForestRegressor(\n",
    "    n_estimators=1000, max_depth=best_max_depth, random_state=1337, n_jobs=4\n",
    ")\n",
    "model_knn = model_knn = KNeighborsRegressor(\n",
    "    n_neighbors=best_n_neighbors, n_jobs=4, weights=\"distance\"\n",
    ")"
   ]
  },
  {
   "cell_type": "code",
   "execution_count": 19,
   "metadata": {},
   "outputs": [
    {
     "name": "stdout",
     "output_type": "stream",
     "text": [
      "fold_0 started\n",
      "metric_0: 0.4194766254169484\n",
      "\n",
      "____________________________________________________________________________________________________\n",
      "\n",
      "fold_1 started\n",
      "metric_1: 0.3502402018048199\n",
      "\n",
      "____________________________________________________________________________________________________\n",
      "\n",
      "fold_2 started\n",
      "metric_2: 0.18786300179751025\n",
      "\n",
      "____________________________________________________________________________________________________\n",
      "\n",
      "fold_3 started\n",
      "metric_3: 0.25683290212246995\n",
      "\n",
      "____________________________________________________________________________________________________\n",
      "\n",
      "fold_4 started\n",
      "metric_4: 0.5994549827857639\n",
      "\n",
      "____________________________________________________________________________________________________\n",
      "\n",
      "fold_5 started\n",
      "metric_5: 0.5370406096276736\n",
      "\n",
      "____________________________________________________________________________________________________\n",
      "\n",
      "fold_6 started\n",
      "metric_6: 0.4639441005845161\n",
      "\n",
      "____________________________________________________________________________________________________\n",
      "\n",
      "fold_7 started\n",
      "metric_7: 0.2979175247314616\n",
      "\n",
      "____________________________________________________________________________________________________\n",
      "\n",
      "fold_8 started\n",
      "metric_8: 0.286151872892708\n",
      "\n",
      "____________________________________________________________________________________________________\n",
      "\n",
      "fold_9 started\n",
      "metric_9: 0.5317891034079051\n",
      "\n",
      "____________________________________________________________________________________________________\n",
      "\n",
      "fold_10 started\n",
      "metric_10: 0.4308760760025996\n",
      "\n",
      "____________________________________________________________________________________________________\n",
      "\n",
      "fold_11 started\n",
      "metric_11: 0.5517334924164663\n",
      "\n",
      "____________________________________________________________________________________________________\n",
      "\n",
      "fold_12 started\n",
      "metric_12: 0.31588847647857515\n",
      "\n",
      "____________________________________________________________________________________________________\n",
      "\n",
      "fold_13 started\n",
      "metric_13: 0.30902835817016755\n",
      "\n",
      "____________________________________________________________________________________________________\n",
      "\n",
      "fold_14 started\n",
      "metric_14: 0.1944720594003615\n",
      "\n",
      "____________________________________________________________________________________________________\n",
      "\n",
      "metric_OOF: 0.40322168582048706\n",
      "metric_AVG: 0.38218062584266316\n",
      "metric_std: 0.12872759831856007\n",
      "\n",
      "****************************************************************************************************\n",
      "\n",
      "CPU times: user 36.3 s, sys: 4.16 s, total: 40.5 s\n",
      "Wall time: 31.4 s\n"
     ]
    },
    {
     "data": {
      "application/javascript": [
       "\n",
       "            setTimeout(function() {\n",
       "                var nbb_cell_id = 19;\n",
       "                var nbb_unformatted_code = \"%%time\\n\\npred_test_rf, oof_df_rf, metric_OOF_rf = cv_and_predict(train, test, train_y, model_rf, n_splits=n_splits, do_scaling=False)\";\n",
       "                var nbb_formatted_code = \"%%time\\n\\npred_test_rf, oof_df_rf, metric_OOF_rf = cv_and_predict(train, test, train_y, model_rf, n_splits=n_splits, do_scaling=False)\";\n",
       "                var nbb_cells = Jupyter.notebook.get_cells();\n",
       "                for (var i = 0; i < nbb_cells.length; ++i) {\n",
       "                    if (nbb_cells[i].input_prompt_number == nbb_cell_id) {\n",
       "                        if (nbb_cells[i].get_text() == nbb_unformatted_code) {\n",
       "                             nbb_cells[i].set_text(nbb_formatted_code);\n",
       "                        }\n",
       "                        break;\n",
       "                    }\n",
       "                }\n",
       "            }, 500);\n",
       "            "
      ],
      "text/plain": [
       "<IPython.core.display.Javascript object>"
      ]
     },
     "metadata": {},
     "output_type": "display_data"
    }
   ],
   "source": [
    "%%time\n",
    "\n",
    "pred_test_rf, oof_df_rf, metric_OOF_rf = cv_and_predict(train, test, train_y, model_rf, n_splits=n_splits, do_scaling=False)"
   ]
  },
  {
   "cell_type": "code",
   "execution_count": 20,
   "metadata": {},
   "outputs": [
    {
     "name": "stdout",
     "output_type": "stream",
     "text": [
      "fold_0 started\n",
      "metric_0: 0.4361297361336031\n",
      "\n",
      "____________________________________________________________________________________________________\n",
      "\n",
      "fold_1 started\n",
      "metric_1: 0.3808837219299926\n",
      "\n",
      "____________________________________________________________________________________________________\n",
      "\n",
      "fold_2 started\n",
      "metric_2: 0.29892045766983694\n",
      "\n",
      "____________________________________________________________________________________________________\n",
      "\n",
      "fold_3 started\n",
      "metric_3: 0.3835822492234118\n",
      "\n",
      "____________________________________________________________________________________________________\n",
      "\n",
      "fold_4 started\n",
      "metric_4: 0.5945547294547507\n",
      "\n",
      "____________________________________________________________________________________________________\n",
      "\n",
      "fold_5 started\n",
      "metric_5: 0.6047006387225101\n",
      "\n",
      "____________________________________________________________________________________________________\n",
      "\n",
      "fold_6 started\n",
      "metric_6: 0.5091180355039084\n",
      "\n",
      "____________________________________________________________________________________________________\n",
      "\n",
      "fold_7 started\n",
      "metric_7: 0.2977823007052529\n",
      "\n",
      "____________________________________________________________________________________________________\n",
      "\n",
      "fold_8 started\n",
      "metric_8: 0.36133862284007334\n",
      "\n",
      "____________________________________________________________________________________________________\n",
      "\n",
      "fold_9 started\n",
      "metric_9: 0.6422714722077218\n",
      "\n",
      "____________________________________________________________________________________________________\n",
      "\n",
      "fold_10 started\n",
      "metric_10: 0.5342589150692496\n",
      "\n",
      "____________________________________________________________________________________________________\n",
      "\n",
      "fold_11 started\n",
      "metric_11: 0.5787884054340395\n",
      "\n",
      "____________________________________________________________________________________________________\n",
      "\n",
      "fold_12 started\n",
      "metric_12: 0.3698691262759201\n",
      "\n",
      "____________________________________________________________________________________________________\n",
      "\n",
      "fold_13 started\n",
      "metric_13: 0.2807954208706843\n",
      "\n",
      "____________________________________________________________________________________________________\n",
      "\n",
      "fold_14 started\n",
      "metric_14: 0.38231326572494045\n",
      "\n",
      "____________________________________________________________________________________________________\n",
      "\n",
      "metric_OOF: 0.45907361812044273\n",
      "metric_AVG: 0.4436871398510597\n",
      "metric_std: 0.11867303872684436\n",
      "\n",
      "****************************************************************************************************\n",
      "\n",
      "CPU times: user 713 ms, sys: 13.2 ms, total: 726 ms\n",
      "Wall time: 3.32 s\n"
     ]
    },
    {
     "data": {
      "application/javascript": [
       "\n",
       "            setTimeout(function() {\n",
       "                var nbb_cell_id = 20;\n",
       "                var nbb_unformatted_code = \"%%time\\n\\npred_test_knn, oof_df_knn, metric_OOF_knn = cv_and_predict(train, test, train_y, model_knn, n_splits=n_splits, do_scaling=True)\";\n",
       "                var nbb_formatted_code = \"%%time\\n\\npred_test_knn, oof_df_knn, metric_OOF_knn = cv_and_predict(train, test, train_y, model_knn, n_splits=n_splits, do_scaling=True)\";\n",
       "                var nbb_cells = Jupyter.notebook.get_cells();\n",
       "                for (var i = 0; i < nbb_cells.length; ++i) {\n",
       "                    if (nbb_cells[i].input_prompt_number == nbb_cell_id) {\n",
       "                        if (nbb_cells[i].get_text() == nbb_unformatted_code) {\n",
       "                             nbb_cells[i].set_text(nbb_formatted_code);\n",
       "                        }\n",
       "                        break;\n",
       "                    }\n",
       "                }\n",
       "            }, 500);\n",
       "            "
      ],
      "text/plain": [
       "<IPython.core.display.Javascript object>"
      ]
     },
     "metadata": {},
     "output_type": "display_data"
    }
   ],
   "source": [
    "%%time\n",
    "\n",
    "pred_test_knn, oof_df_knn, metric_OOF_knn = cv_and_predict(train, test, train_y, model_knn, n_splits=n_splits, do_scaling=True)"
   ]
  },
  {
   "cell_type": "code",
   "execution_count": 21,
   "metadata": {},
   "outputs": [
    {
     "data": {
      "application/javascript": [
       "\n",
       "            setTimeout(function() {\n",
       "                var nbb_cell_id = 21;\n",
       "                var nbb_unformatted_code = \"oof_df = oof_df_knn.copy()\\noof_df.rename({\\\"prediction_oof\\\": \\\"prediction_oof_knn\\\"}, axis=1, inplace=True)\\noof_df[\\\"prediction_oof_rf\\\"] = oof_df_rf[\\\"prediction_oof\\\"]\";\n",
       "                var nbb_formatted_code = \"oof_df = oof_df_knn.copy()\\noof_df.rename({\\\"prediction_oof\\\": \\\"prediction_oof_knn\\\"}, axis=1, inplace=True)\\noof_df[\\\"prediction_oof_rf\\\"] = oof_df_rf[\\\"prediction_oof\\\"]\";\n",
       "                var nbb_cells = Jupyter.notebook.get_cells();\n",
       "                for (var i = 0; i < nbb_cells.length; ++i) {\n",
       "                    if (nbb_cells[i].input_prompt_number == nbb_cell_id) {\n",
       "                        if (nbb_cells[i].get_text() == nbb_unformatted_code) {\n",
       "                             nbb_cells[i].set_text(nbb_formatted_code);\n",
       "                        }\n",
       "                        break;\n",
       "                    }\n",
       "                }\n",
       "            }, 500);\n",
       "            "
      ],
      "text/plain": [
       "<IPython.core.display.Javascript object>"
      ]
     },
     "metadata": {},
     "output_type": "display_data"
    }
   ],
   "source": [
    "oof_df = oof_df_knn.copy()\n",
    "oof_df.rename({\"prediction_oof\": \"prediction_oof_knn\"}, axis=1, inplace=True)\n",
    "oof_df[\"prediction_oof_rf\"] = oof_df_rf[\"prediction_oof\"]"
   ]
  },
  {
   "cell_type": "code",
   "execution_count": 22,
   "metadata": {},
   "outputs": [
    {
     "data": {
      "text/html": [
       "<div>\n",
       "<style scoped>\n",
       "    .dataframe tbody tr th:only-of-type {\n",
       "        vertical-align: middle;\n",
       "    }\n",
       "\n",
       "    .dataframe tbody tr th {\n",
       "        vertical-align: top;\n",
       "    }\n",
       "\n",
       "    .dataframe thead th {\n",
       "        text-align: right;\n",
       "    }\n",
       "</style>\n",
       "<table border=\"1\" class=\"dataframe\">\n",
       "  <thead>\n",
       "    <tr style=\"text-align: right;\">\n",
       "      <th></th>\n",
       "      <th>target</th>\n",
       "      <th>prediction_oof_knn</th>\n",
       "      <th>prediction_oof_rf</th>\n",
       "    </tr>\n",
       "  </thead>\n",
       "  <tbody>\n",
       "    <tr>\n",
       "      <th>0</th>\n",
       "      <td>6837.36870</td>\n",
       "      <td>9140.937797</td>\n",
       "      <td>7413.368425</td>\n",
       "    </tr>\n",
       "    <tr>\n",
       "      <th>1</th>\n",
       "      <td>12224.35085</td>\n",
       "      <td>12015.993809</td>\n",
       "      <td>11994.798981</td>\n",
       "    </tr>\n",
       "    <tr>\n",
       "      <th>2</th>\n",
       "      <td>27346.04207</td>\n",
       "      <td>10567.988628</td>\n",
       "      <td>11780.408957</td>\n",
       "    </tr>\n",
       "    <tr>\n",
       "      <th>3</th>\n",
       "      <td>10436.09600</td>\n",
       "      <td>9434.992744</td>\n",
       "      <td>12149.136916</td>\n",
       "    </tr>\n",
       "    <tr>\n",
       "      <th>4</th>\n",
       "      <td>34828.65400</td>\n",
       "      <td>32950.627798</td>\n",
       "      <td>36287.876218</td>\n",
       "    </tr>\n",
       "    <tr>\n",
       "      <th>...</th>\n",
       "      <td>...</td>\n",
       "      <td>...</td>\n",
       "      <td>...</td>\n",
       "    </tr>\n",
       "    <tr>\n",
       "      <th>664</th>\n",
       "      <td>4561.18850</td>\n",
       "      <td>5559.888735</td>\n",
       "      <td>3835.561090</td>\n",
       "    </tr>\n",
       "    <tr>\n",
       "      <th>665</th>\n",
       "      <td>8582.30230</td>\n",
       "      <td>11507.027020</td>\n",
       "      <td>8177.382566</td>\n",
       "    </tr>\n",
       "    <tr>\n",
       "      <th>666</th>\n",
       "      <td>11931.12525</td>\n",
       "      <td>11827.886898</td>\n",
       "      <td>11976.935644</td>\n",
       "    </tr>\n",
       "    <tr>\n",
       "      <th>667</th>\n",
       "      <td>46113.51100</td>\n",
       "      <td>24765.798638</td>\n",
       "      <td>46110.153532</td>\n",
       "    </tr>\n",
       "    <tr>\n",
       "      <th>668</th>\n",
       "      <td>10214.63600</td>\n",
       "      <td>11975.802527</td>\n",
       "      <td>12018.949058</td>\n",
       "    </tr>\n",
       "  </tbody>\n",
       "</table>\n",
       "<p>669 rows × 3 columns</p>\n",
       "</div>"
      ],
      "text/plain": [
       "          target  prediction_oof_knn  prediction_oof_rf\n",
       "0     6837.36870         9140.937797        7413.368425\n",
       "1    12224.35085        12015.993809       11994.798981\n",
       "2    27346.04207        10567.988628       11780.408957\n",
       "3    10436.09600         9434.992744       12149.136916\n",
       "4    34828.65400        32950.627798       36287.876218\n",
       "..           ...                 ...                ...\n",
       "664   4561.18850         5559.888735        3835.561090\n",
       "665   8582.30230        11507.027020        8177.382566\n",
       "666  11931.12525        11827.886898       11976.935644\n",
       "667  46113.51100        24765.798638       46110.153532\n",
       "668  10214.63600        11975.802527       12018.949058\n",
       "\n",
       "[669 rows x 3 columns]"
      ]
     },
     "execution_count": 22,
     "metadata": {},
     "output_type": "execute_result"
    },
    {
     "data": {
      "application/javascript": [
       "\n",
       "            setTimeout(function() {\n",
       "                var nbb_cell_id = 22;\n",
       "                var nbb_unformatted_code = \"oof_df\";\n",
       "                var nbb_formatted_code = \"oof_df\";\n",
       "                var nbb_cells = Jupyter.notebook.get_cells();\n",
       "                for (var i = 0; i < nbb_cells.length; ++i) {\n",
       "                    if (nbb_cells[i].input_prompt_number == nbb_cell_id) {\n",
       "                        if (nbb_cells[i].get_text() == nbb_unformatted_code) {\n",
       "                             nbb_cells[i].set_text(nbb_formatted_code);\n",
       "                        }\n",
       "                        break;\n",
       "                    }\n",
       "                }\n",
       "            }, 500);\n",
       "            "
      ],
      "text/plain": [
       "<IPython.core.display.Javascript object>"
      ]
     },
     "metadata": {},
     "output_type": "display_data"
    }
   ],
   "source": [
    "oof_df"
   ]
  },
  {
   "cell_type": "code",
   "execution_count": 23,
   "metadata": {},
   "outputs": [
    {
     "data": {
      "application/javascript": [
       "\n",
       "            setTimeout(function() {\n",
       "                var nbb_cell_id = 23;\n",
       "                var nbb_unformatted_code = \"metric_list = []\\nalphas = np.linspace(0, 1, 101)\\nfor alpha in alphas:\\n    oof_blend = np.expm1(\\n        np.array(\\n            np.log1p(oof_df[\\\"prediction_oof_knn\\\"]) * alpha\\n            + np.log1p(oof_df[\\\"prediction_oof_rf\\\"]) * (1 - alpha)\\n        )\\n    )\\n    metric_list.append(RMSLE(oof_df[\\\"target\\\"], oof_blend))\";\n",
       "                var nbb_formatted_code = \"metric_list = []\\nalphas = np.linspace(0, 1, 101)\\nfor alpha in alphas:\\n    oof_blend = np.expm1(\\n        np.array(\\n            np.log1p(oof_df[\\\"prediction_oof_knn\\\"]) * alpha\\n            + np.log1p(oof_df[\\\"prediction_oof_rf\\\"]) * (1 - alpha)\\n        )\\n    )\\n    metric_list.append(RMSLE(oof_df[\\\"target\\\"], oof_blend))\";\n",
       "                var nbb_cells = Jupyter.notebook.get_cells();\n",
       "                for (var i = 0; i < nbb_cells.length; ++i) {\n",
       "                    if (nbb_cells[i].input_prompt_number == nbb_cell_id) {\n",
       "                        if (nbb_cells[i].get_text() == nbb_unformatted_code) {\n",
       "                             nbb_cells[i].set_text(nbb_formatted_code);\n",
       "                        }\n",
       "                        break;\n",
       "                    }\n",
       "                }\n",
       "            }, 500);\n",
       "            "
      ],
      "text/plain": [
       "<IPython.core.display.Javascript object>"
      ]
     },
     "metadata": {},
     "output_type": "display_data"
    }
   ],
   "source": [
    "metric_list = []\n",
    "alphas = np.linspace(0, 1, 101)\n",
    "for alpha in alphas:\n",
    "    oof_blend = np.expm1(\n",
    "        np.array(\n",
    "            np.log1p(oof_df[\"prediction_oof_knn\"]) * alpha\n",
    "            + np.log1p(oof_df[\"prediction_oof_rf\"]) * (1 - alpha)\n",
    "        )\n",
    "    )\n",
    "    metric_list.append(RMSLE(oof_df[\"target\"], oof_blend))"
   ]
  },
  {
   "cell_type": "code",
   "execution_count": 25,
   "metadata": {},
   "outputs": [
    {
     "data": {
      "text/plain": [
       "Text(0, 0.5, 'RMSLE_oof')"
      ]
     },
     "execution_count": 25,
     "metadata": {},
     "output_type": "execute_result"
    },
    {
     "data": {
      "image/png": "[encoded data removed]",
      "text/plain": [
       "<Figure size 432x288 with 1 Axes>"
      ]
     },
     "metadata": {
      "needs_background": "light"
     },
     "output_type": "display_data"
    },
    {
     "data": {
      "application/javascript": [
       "\n",
       "            setTimeout(function() {\n",
       "                var nbb_cell_id = 25;\n",
       "                var nbb_unformatted_code = \"plt.plot(alphas, metric_list)\\nplt.xlabel(\\\"alphas\\\")\\nplt.ylabel(\\\"RMSLE_oof\\\")\";\n",
       "                var nbb_formatted_code = \"plt.plot(alphas, metric_list)\\nplt.xlabel(\\\"alphas\\\")\\nplt.ylabel(\\\"RMSLE_oof\\\")\";\n",
       "                var nbb_cells = Jupyter.notebook.get_cells();\n",
       "                for (var i = 0; i < nbb_cells.length; ++i) {\n",
       "                    if (nbb_cells[i].input_prompt_number == nbb_cell_id) {\n",
       "                        if (nbb_cells[i].get_text() == nbb_unformatted_code) {\n",
       "                             nbb_cells[i].set_text(nbb_formatted_code);\n",
       "                        }\n",
       "                        break;\n",
       "                    }\n",
       "                }\n",
       "            }, 500);\n",
       "            "
      ],
      "text/plain": [
       "<IPython.core.display.Javascript object>"
      ]
     },
     "metadata": {},
     "output_type": "display_data"
    }
   ],
   "source": [
    "plt.plot(alphas, metric_list);\n",
    "plt.xlabel(\"alphas\");\n",
    "plt.ylabel(\"RMSLE_oof\");"
   ]
  },
  {
   "cell_type": "code",
   "execution_count": 26,
   "metadata": {},
   "outputs": [
    {
     "data": {
      "application/javascript": [
       "\n",
       "            setTimeout(function() {\n",
       "                var nbb_cell_id = 26;\n",
       "                var nbb_unformatted_code = \"min_metric, best_alpha_idx = min((val, idx) for (idx, val) in enumerate(metric_list))\\nbest_alpha = alphas[best_alpha_idx]\";\n",
       "                var nbb_formatted_code = \"min_metric, best_alpha_idx = min((val, idx) for (idx, val) in enumerate(metric_list))\\nbest_alpha = alphas[best_alpha_idx]\";\n",
       "                var nbb_cells = Jupyter.notebook.get_cells();\n",
       "                for (var i = 0; i < nbb_cells.length; ++i) {\n",
       "                    if (nbb_cells[i].input_prompt_number == nbb_cell_id) {\n",
       "                        if (nbb_cells[i].get_text() == nbb_unformatted_code) {\n",
       "                             nbb_cells[i].set_text(nbb_formatted_code);\n",
       "                        }\n",
       "                        break;\n",
       "                    }\n",
       "                }\n",
       "            }, 500);\n",
       "            "
      ],
      "text/plain": [
       "<IPython.core.display.Javascript object>"
      ]
     },
     "metadata": {},
     "output_type": "display_data"
    }
   ],
   "source": [
    "min_metric, best_alpha_idx = min((val, idx) for (idx, val) in enumerate(metric_list))\n",
    "best_alpha = alphas[best_alpha_idx]"
   ]
  },
  {
   "cell_type": "code",
   "execution_count": 27,
   "metadata": {},
   "outputs": [
    {
     "data": {
      "text/plain": [
       "(0.15, 0.4012062951882364)"
      ]
     },
     "execution_count": 27,
     "metadata": {},
     "output_type": "execute_result"
    },
    {
     "data": {
      "application/javascript": [
       "\n",
       "            setTimeout(function() {\n",
       "                var nbb_cell_id = 27;\n",
       "                var nbb_unformatted_code = \"best_alpha, min_metric\";\n",
       "                var nbb_formatted_code = \"best_alpha, min_metric\";\n",
       "                var nbb_cells = Jupyter.notebook.get_cells();\n",
       "                for (var i = 0; i < nbb_cells.length; ++i) {\n",
       "                    if (nbb_cells[i].input_prompt_number == nbb_cell_id) {\n",
       "                        if (nbb_cells[i].get_text() == nbb_unformatted_code) {\n",
       "                             nbb_cells[i].set_text(nbb_formatted_code);\n",
       "                        }\n",
       "                        break;\n",
       "                    }\n",
       "                }\n",
       "            }, 500);\n",
       "            "
      ],
      "text/plain": [
       "<IPython.core.display.Javascript object>"
      ]
     },
     "metadata": {},
     "output_type": "display_data"
    }
   ],
   "source": [
    "best_alpha, min_metric"
   ]
  },
  {
   "cell_type": "code",
   "execution_count": 29,
   "metadata": {},
   "outputs": [
    {
     "data": {
      "text/plain": [
       "0.9048047411379614"
      ]
     },
     "execution_count": 29,
     "metadata": {},
     "output_type": "execute_result"
    },
    {
     "data": {
      "application/javascript": [
       "\n",
       "            setTimeout(function() {\n",
       "                var nbb_cell_id = 29;\n",
       "                var nbb_unformatted_code = \"# \\u0421\\u0440\\u0430\\u0432\\u043d\\u0438\\u043c OOF \\u043f\\u0440\\u0435\\u0434\\u0441\\u043a\\u0430\\u0437\\u0430\\u043d\\u0438\\u044f \\u0441 \\u043a\\u043e\\u043d\\u0441\\u0442\\u0430\\u043d\\u0442\\u043d\\u044b\\u043c \\u0431\\u0435\\u0439\\u0437\\u043b\\u0430\\u0439\\u043d\\u043e\\u043c \\u0438 \\u0443\\u0431\\u0435\\u0434\\u0438\\u043c\\u0441\\u044f, \\u0447\\u0442\\u043e \\u043c\\u044b \\u043b\\u0443\\u0447\\u0448\\u0435\\n\\nbest_constant = np.expm1(np.mean(np.log1p(train_y)))\\nconstant_baseline = np.ones(oof_df.shape[0]) * best_constant\\nRMSLE(constant_baseline, oof_df[\\\"target\\\"])\";\n",
       "                var nbb_formatted_code = \"# \\u0421\\u0440\\u0430\\u0432\\u043d\\u0438\\u043c OOF \\u043f\\u0440\\u0435\\u0434\\u0441\\u043a\\u0430\\u0437\\u0430\\u043d\\u0438\\u044f \\u0441 \\u043a\\u043e\\u043d\\u0441\\u0442\\u0430\\u043d\\u0442\\u043d\\u044b\\u043c \\u0431\\u0435\\u0439\\u0437\\u043b\\u0430\\u0439\\u043d\\u043e\\u043c \\u0438 \\u0443\\u0431\\u0435\\u0434\\u0438\\u043c\\u0441\\u044f, \\u0447\\u0442\\u043e \\u043c\\u044b \\u043b\\u0443\\u0447\\u0448\\u0435\\n\\nbest_constant = np.expm1(np.mean(np.log1p(train_y)))\\nconstant_baseline = np.ones(oof_df.shape[0]) * best_constant\\nRMSLE(constant_baseline, oof_df[\\\"target\\\"])\";\n",
       "                var nbb_cells = Jupyter.notebook.get_cells();\n",
       "                for (var i = 0; i < nbb_cells.length; ++i) {\n",
       "                    if (nbb_cells[i].input_prompt_number == nbb_cell_id) {\n",
       "                        if (nbb_cells[i].get_text() == nbb_unformatted_code) {\n",
       "                             nbb_cells[i].set_text(nbb_formatted_code);\n",
       "                        }\n",
       "                        break;\n",
       "                    }\n",
       "                }\n",
       "            }, 500);\n",
       "            "
      ],
      "text/plain": [
       "<IPython.core.display.Javascript object>"
      ]
     },
     "metadata": {},
     "output_type": "display_data"
    }
   ],
   "source": [
    "# Сравним OOF предсказания с константным бейзлайном и убедимся, что мы лучше\n",
    "\n",
    "best_constant = np.expm1(np.mean(np.log1p(train_y)))\n",
    "constant_baseline = np.ones(oof_df.shape[0]) * best_constant\n",
    "RMSLE(constant_baseline, oof_df[\"target\"])"
   ]
  },
  {
   "cell_type": "code",
   "execution_count": 30,
   "metadata": {},
   "outputs": [
    {
     "data": {
      "application/javascript": [
       "\n",
       "            setTimeout(function() {\n",
       "                var nbb_cell_id = 30;\n",
       "                var nbb_unformatted_code = \"pred_test = np.expm1(\\n    np.array(\\n        np.log1p(pred_test_knn) * best_alpha + np.log1p(pred_test_rf) * (1 - best_alpha)\\n    )\\n)\";\n",
       "                var nbb_formatted_code = \"pred_test = np.expm1(\\n    np.array(\\n        np.log1p(pred_test_knn) * best_alpha + np.log1p(pred_test_rf) * (1 - best_alpha)\\n    )\\n)\";\n",
       "                var nbb_cells = Jupyter.notebook.get_cells();\n",
       "                for (var i = 0; i < nbb_cells.length; ++i) {\n",
       "                    if (nbb_cells[i].input_prompt_number == nbb_cell_id) {\n",
       "                        if (nbb_cells[i].get_text() == nbb_unformatted_code) {\n",
       "                             nbb_cells[i].set_text(nbb_formatted_code);\n",
       "                        }\n",
       "                        break;\n",
       "                    }\n",
       "                }\n",
       "            }, 500);\n",
       "            "
      ],
      "text/plain": [
       "<IPython.core.display.Javascript object>"
      ]
     },
     "metadata": {},
     "output_type": "display_data"
    }
   ],
   "source": [
    "pred_test = np.expm1(\n",
    "    np.array(\n",
    "        np.log1p(pred_test_knn) * best_alpha + np.log1p(pred_test_rf) * (1 - best_alpha)\n",
    "    )\n",
    ")"
   ]
  },
  {
   "cell_type": "code",
   "execution_count": 32,
   "metadata": {},
   "outputs": [
    {
     "data": {
      "application/javascript": [
       "\n",
       "            setTimeout(function() {\n",
       "                var nbb_cell_id = 32;\n",
       "                var nbb_unformatted_code = \"submission = pd.DataFrame()\\nsubmission[\\\"id\\\"] = test_ids\\nsubmission[\\\"charges\\\"] = pred_test\";\n",
       "                var nbb_formatted_code = \"submission = pd.DataFrame()\\nsubmission[\\\"id\\\"] = test_ids\\nsubmission[\\\"charges\\\"] = pred_test\";\n",
       "                var nbb_cells = Jupyter.notebook.get_cells();\n",
       "                for (var i = 0; i < nbb_cells.length; ++i) {\n",
       "                    if (nbb_cells[i].input_prompt_number == nbb_cell_id) {\n",
       "                        if (nbb_cells[i].get_text() == nbb_unformatted_code) {\n",
       "                             nbb_cells[i].set_text(nbb_formatted_code);\n",
       "                        }\n",
       "                        break;\n",
       "                    }\n",
       "                }\n",
       "            }, 500);\n",
       "            "
      ],
      "text/plain": [
       "<IPython.core.display.Javascript object>"
      ]
     },
     "metadata": {},
     "output_type": "display_data"
    }
   ],
   "source": [
    "submission = pd.DataFrame()\n",
    "submission[\"id\"] = test_ids\n",
    "submission[\"charges\"] = pred_test"
   ]
  },
  {
   "cell_type": "code",
   "execution_count": 33,
   "metadata": {},
   "outputs": [
    {
     "data": {
      "text/html": [
       "<div>\n",
       "<style scoped>\n",
       "    .dataframe tbody tr th:only-of-type {\n",
       "        vertical-align: middle;\n",
       "    }\n",
       "\n",
       "    .dataframe tbody tr th {\n",
       "        vertical-align: top;\n",
       "    }\n",
       "\n",
       "    .dataframe thead th {\n",
       "        text-align: right;\n",
       "    }\n",
       "</style>\n",
       "<table border=\"1\" class=\"dataframe\">\n",
       "  <thead>\n",
       "    <tr style=\"text-align: right;\">\n",
       "      <th></th>\n",
       "      <th>id</th>\n",
       "      <th>charges</th>\n",
       "    </tr>\n",
       "  </thead>\n",
       "  <tbody>\n",
       "    <tr>\n",
       "      <th>0</th>\n",
       "      <td>770</td>\n",
       "      <td>8374.388386</td>\n",
       "    </tr>\n",
       "    <tr>\n",
       "      <th>1</th>\n",
       "      <td>771</td>\n",
       "      <td>5277.368733</td>\n",
       "    </tr>\n",
       "    <tr>\n",
       "      <th>2</th>\n",
       "      <td>772</td>\n",
       "      <td>26432.202697</td>\n",
       "    </tr>\n",
       "    <tr>\n",
       "      <th>3</th>\n",
       "      <td>773</td>\n",
       "      <td>8454.995403</td>\n",
       "    </tr>\n",
       "    <tr>\n",
       "      <th>4</th>\n",
       "      <td>774</td>\n",
       "      <td>33276.058150</td>\n",
       "    </tr>\n",
       "  </tbody>\n",
       "</table>\n",
       "</div>"
      ],
      "text/plain": [
       "    id       charges\n",
       "0  770   8374.388386\n",
       "1  771   5277.368733\n",
       "2  772  26432.202697\n",
       "3  773   8454.995403\n",
       "4  774  33276.058150"
      ]
     },
     "execution_count": 33,
     "metadata": {},
     "output_type": "execute_result"
    },
    {
     "data": {
      "application/javascript": [
       "\n",
       "            setTimeout(function() {\n",
       "                var nbb_cell_id = 33;\n",
       "                var nbb_unformatted_code = \"submission.head()\";\n",
       "                var nbb_formatted_code = \"submission.head()\";\n",
       "                var nbb_cells = Jupyter.notebook.get_cells();\n",
       "                for (var i = 0; i < nbb_cells.length; ++i) {\n",
       "                    if (nbb_cells[i].input_prompt_number == nbb_cell_id) {\n",
       "                        if (nbb_cells[i].get_text() == nbb_unformatted_code) {\n",
       "                             nbb_cells[i].set_text(nbb_formatted_code);\n",
       "                        }\n",
       "                        break;\n",
       "                    }\n",
       "                }\n",
       "            }, 500);\n",
       "            "
      ],
      "text/plain": [
       "<IPython.core.display.Javascript object>"
      ]
     },
     "metadata": {},
     "output_type": "display_data"
    }
   ],
   "source": [
    "submission.head()"
   ]
  },
  {
   "cell_type": "code",
   "execution_count": 34,
   "metadata": {},
   "outputs": [
    {
     "data": {
      "application/javascript": [
       "\n",
       "            setTimeout(function() {\n",
       "                var nbb_cell_id = 34;\n",
       "                var nbb_unformatted_code = \"submission.to_csv(f\\\"sub_hardcore_n_splits_{n_splits}.csv\\\", index=False)\";\n",
       "                var nbb_formatted_code = \"submission.to_csv(f\\\"sub_hardcore_n_splits_{n_splits}.csv\\\", index=False)\";\n",
       "                var nbb_cells = Jupyter.notebook.get_cells();\n",
       "                for (var i = 0; i < nbb_cells.length; ++i) {\n",
       "                    if (nbb_cells[i].input_prompt_number == nbb_cell_id) {\n",
       "                        if (nbb_cells[i].get_text() == nbb_unformatted_code) {\n",
       "                             nbb_cells[i].set_text(nbb_formatted_code);\n",
       "                        }\n",
       "                        break;\n",
       "                    }\n",
       "                }\n",
       "            }, 500);\n",
       "            "
      ],
      "text/plain": [
       "<IPython.core.display.Javascript object>"
      ]
     },
     "metadata": {},
     "output_type": "display_data"
    }
   ],
   "source": [
    "submission.to_csv(f\"sub_hardcore_n_splits_{n_splits}.csv\", index=False)"
   ]
  }
 ],
 "metadata": {
  "kernelspec": {
   "display_name": "Python 3",
   "language": "python",
   "name": "python3"
  },
  "language_info": {
   "codemirror_mode": {
    "name": "ipython",
    "version": 3
   },
   "file_extension": ".py",
   "mimetype": "text/x-python",
   "name": "python",
   "nbconvert_exporter": "python",
   "pygments_lexer": "ipython3",
   "version": "3.7.6"
  }
 },
 "nbformat": 4,
 "nbformat_minor": 4
}
